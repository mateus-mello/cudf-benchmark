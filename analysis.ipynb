{
 "cells": [
  {
   "cell_type": "code",
   "execution_count": 2,
   "metadata": {},
   "outputs": [],
   "source": [
    "import pandas as pd\n",
    "import plotly.express as px\n",
    "import polars as pl"
   ]
  },
  {
   "cell_type": "code",
   "execution_count": 14,
   "metadata": {},
   "outputs": [
    {
     "data": {
      "text/html": [
       "<div><style>\n",
       ".dataframe > thead > tr,\n",
       ".dataframe > tbody > tr {\n",
       "  text-align: right;\n",
       "  white-space: pre-wrap;\n",
       "}\n",
       "</style>\n",
       "<small>shape: (500_000, 2)</small><table border=\"1\" class=\"dataframe\"><thead><tr><th>user_id</th><th>book_id</th></tr><tr><td>i64</td><td>i64</td></tr></thead><tbody><tr><td>0</td><td>948</td></tr><tr><td>0</td><td>947</td></tr><tr><td>0</td><td>946</td></tr><tr><td>0</td><td>945</td></tr><tr><td>0</td><td>944</td></tr><tr><td>&hellip;</td><td>&hellip;</td></tr><tr><td>1033</td><td>111847</td></tr><tr><td>1033</td><td>181478</td></tr><tr><td>1033</td><td>181477</td></tr><tr><td>1033</td><td>8569</td></tr><tr><td>1033</td><td>94925</td></tr></tbody></table></div>"
      ],
      "text/plain": [
       "shape: (500_000, 2)\n",
       "┌─────────┬─────────┐\n",
       "│ user_id ┆ book_id │\n",
       "│ ---     ┆ ---     │\n",
       "│ i64     ┆ i64     │\n",
       "╞═════════╪═════════╡\n",
       "│ 0       ┆ 948     │\n",
       "│ 0       ┆ 947     │\n",
       "│ 0       ┆ 946     │\n",
       "│ 0       ┆ 945     │\n",
       "│ 0       ┆ 944     │\n",
       "│ …       ┆ …       │\n",
       "│ 1033    ┆ 111847  │\n",
       "│ 1033    ┆ 181478  │\n",
       "│ 1033    ┆ 181477  │\n",
       "│ 1033    ┆ 8569    │\n",
       "│ 1033    ┆ 94925   │\n",
       "└─────────┴─────────┘"
      ]
     },
     "execution_count": 14,
     "metadata": {},
     "output_type": "execute_result"
    }
   ],
   "source": [
    "df=pl.read_parquet(\"./data/parquet/users_500000.parquet\")\n",
    "df"
   ]
  },
  {
   "cell_type": "markdown",
   "metadata": {},
   "source": [
    "# Lines"
   ]
  },
  {
   "cell_type": "code",
   "execution_count": 16,
   "metadata": {},
   "outputs": [
    {
     "data": {
      "text/html": [
       "<div>\n",
       "<style scoped>\n",
       "    .dataframe tbody tr th:only-of-type {\n",
       "        vertical-align: middle;\n",
       "    }\n",
       "\n",
       "    .dataframe tbody tr th {\n",
       "        vertical-align: top;\n",
       "    }\n",
       "\n",
       "    .dataframe thead th {\n",
       "        text-align: right;\n",
       "    }\n",
       "</style>\n",
       "<table border=\"1\" class=\"dataframe\">\n",
       "  <thead>\n",
       "    <tr style=\"text-align: right;\">\n",
       "      <th></th>\n",
       "      <th>engine</th>\n",
       "      <th>file</th>\n",
       "      <th>size</th>\n",
       "      <th>run</th>\n",
       "      <th>time</th>\n",
       "    </tr>\n",
       "  </thead>\n",
       "  <tbody>\n",
       "    <tr>\n",
       "      <th>0</th>\n",
       "      <td>pandas_cudf</td>\n",
       "      <td>csv</td>\n",
       "      <td>500000</td>\n",
       "      <td>1</td>\n",
       "      <td>0.153022</td>\n",
       "    </tr>\n",
       "    <tr>\n",
       "      <th>1</th>\n",
       "      <td>pandas_cudf</td>\n",
       "      <td>csv</td>\n",
       "      <td>500000</td>\n",
       "      <td>2</td>\n",
       "      <td>0.005645</td>\n",
       "    </tr>\n",
       "    <tr>\n",
       "      <th>2</th>\n",
       "      <td>pandas_cudf</td>\n",
       "      <td>csv</td>\n",
       "      <td>500000</td>\n",
       "      <td>3</td>\n",
       "      <td>0.006399</td>\n",
       "    </tr>\n",
       "    <tr>\n",
       "      <th>3</th>\n",
       "      <td>pandas_cudf</td>\n",
       "      <td>csv</td>\n",
       "      <td>500000</td>\n",
       "      <td>4</td>\n",
       "      <td>0.005191</td>\n",
       "    </tr>\n",
       "    <tr>\n",
       "      <th>4</th>\n",
       "      <td>pandas_cudf</td>\n",
       "      <td>csv</td>\n",
       "      <td>500000</td>\n",
       "      <td>5</td>\n",
       "      <td>0.005468</td>\n",
       "    </tr>\n",
       "    <tr>\n",
       "      <th>...</th>\n",
       "      <td>...</td>\n",
       "      <td>...</td>\n",
       "      <td>...</td>\n",
       "      <td>...</td>\n",
       "      <td>...</td>\n",
       "    </tr>\n",
       "    <tr>\n",
       "      <th>3127</th>\n",
       "      <td>spark</td>\n",
       "      <td>csv</td>\n",
       "      <td>200000000</td>\n",
       "      <td>8</td>\n",
       "      <td>0.055526</td>\n",
       "    </tr>\n",
       "    <tr>\n",
       "      <th>3128</th>\n",
       "      <td>spark</td>\n",
       "      <td>csv</td>\n",
       "      <td>200000000</td>\n",
       "      <td>9</td>\n",
       "      <td>0.047953</td>\n",
       "    </tr>\n",
       "    <tr>\n",
       "      <th>3129</th>\n",
       "      <td>spark</td>\n",
       "      <td>csv</td>\n",
       "      <td>200000000</td>\n",
       "      <td>10</td>\n",
       "      <td>0.046837</td>\n",
       "    </tr>\n",
       "    <tr>\n",
       "      <th>3130</th>\n",
       "      <td>spark</td>\n",
       "      <td>csv</td>\n",
       "      <td>200000000</td>\n",
       "      <td>11</td>\n",
       "      <td>0.055455</td>\n",
       "    </tr>\n",
       "    <tr>\n",
       "      <th>3131</th>\n",
       "      <td>spark</td>\n",
       "      <td>csv</td>\n",
       "      <td>200000000</td>\n",
       "      <td>12</td>\n",
       "      <td>0.050255</td>\n",
       "    </tr>\n",
       "  </tbody>\n",
       "</table>\n",
       "<p>3132 rows × 5 columns</p>\n",
       "</div>"
      ],
      "text/plain": [
       "           engine file       size  run      time\n",
       "0     pandas_cudf  csv     500000    1  0.153022\n",
       "1     pandas_cudf  csv     500000    2  0.005645\n",
       "2     pandas_cudf  csv     500000    3  0.006399\n",
       "3     pandas_cudf  csv     500000    4  0.005191\n",
       "4     pandas_cudf  csv     500000    5  0.005468\n",
       "...           ...  ...        ...  ...       ...\n",
       "3127        spark  csv  200000000    8  0.055526\n",
       "3128        spark  csv  200000000    9  0.047953\n",
       "3129        spark  csv  200000000   10  0.046837\n",
       "3130        spark  csv  200000000   11  0.055455\n",
       "3131        spark  csv  200000000   12  0.050255\n",
       "\n",
       "[3132 rows x 5 columns]"
      ]
     },
     "execution_count": 16,
     "metadata": {},
     "output_type": "execute_result"
    }
   ],
   "source": [
    "df = pd.read_csv(\"./benchmark_results_20250216.csv\", sep=\",\", header=None, names=[\"engine\", \"file\", \"size\",\"run\", \"time\"])\n",
    "df"
   ]
  },
  {
   "cell_type": "code",
   "execution_count": 17,
   "metadata": {},
   "outputs": [
    {
     "data": {
      "text/html": [
       "<div>\n",
       "<style scoped>\n",
       "    .dataframe tbody tr th:only-of-type {\n",
       "        vertical-align: middle;\n",
       "    }\n",
       "\n",
       "    .dataframe tbody tr th {\n",
       "        vertical-align: top;\n",
       "    }\n",
       "\n",
       "    .dataframe thead th {\n",
       "        text-align: right;\n",
       "    }\n",
       "</style>\n",
       "<table border=\"1\" class=\"dataframe\">\n",
       "  <thead>\n",
       "    <tr style=\"text-align: right;\">\n",
       "      <th></th>\n",
       "      <th>engine</th>\n",
       "      <th>file</th>\n",
       "      <th>size</th>\n",
       "      <th>time</th>\n",
       "      <th>min_max</th>\n",
       "    </tr>\n",
       "  </thead>\n",
       "  <tbody>\n",
       "    <tr>\n",
       "      <th>0</th>\n",
       "      <td>pandas</td>\n",
       "      <td>csv</td>\n",
       "      <td>500000</td>\n",
       "      <td>0.041279</td>\n",
       "      <td>1</td>\n",
       "    </tr>\n",
       "    <tr>\n",
       "      <th>1</th>\n",
       "      <td>pandas</td>\n",
       "      <td>csv</td>\n",
       "      <td>1000000</td>\n",
       "      <td>0.071730</td>\n",
       "      <td>1</td>\n",
       "    </tr>\n",
       "    <tr>\n",
       "      <th>2</th>\n",
       "      <td>pandas</td>\n",
       "      <td>csv</td>\n",
       "      <td>5000000</td>\n",
       "      <td>0.420342</td>\n",
       "      <td>1</td>\n",
       "    </tr>\n",
       "    <tr>\n",
       "      <th>3</th>\n",
       "      <td>pandas</td>\n",
       "      <td>csv</td>\n",
       "      <td>10000000</td>\n",
       "      <td>0.853514</td>\n",
       "      <td>1</td>\n",
       "    </tr>\n",
       "    <tr>\n",
       "      <th>4</th>\n",
       "      <td>pandas</td>\n",
       "      <td>csv</td>\n",
       "      <td>15000000</td>\n",
       "      <td>1.344369</td>\n",
       "      <td>1</td>\n",
       "    </tr>\n",
       "    <tr>\n",
       "      <th>...</th>\n",
       "      <td>...</td>\n",
       "      <td>...</td>\n",
       "      <td>...</td>\n",
       "      <td>...</td>\n",
       "      <td>...</td>\n",
       "    </tr>\n",
       "    <tr>\n",
       "      <th>515</th>\n",
       "      <td>spark</td>\n",
       "      <td>parquet</td>\n",
       "      <td>100000000</td>\n",
       "      <td>0.976232</td>\n",
       "      <td>1</td>\n",
       "    </tr>\n",
       "    <tr>\n",
       "      <th>516</th>\n",
       "      <td>spark</td>\n",
       "      <td>parquet</td>\n",
       "      <td>125000000</td>\n",
       "      <td>0.976109</td>\n",
       "      <td>1</td>\n",
       "    </tr>\n",
       "    <tr>\n",
       "      <th>517</th>\n",
       "      <td>spark</td>\n",
       "      <td>parquet</td>\n",
       "      <td>150000000</td>\n",
       "      <td>0.979737</td>\n",
       "      <td>1</td>\n",
       "    </tr>\n",
       "    <tr>\n",
       "      <th>518</th>\n",
       "      <td>spark</td>\n",
       "      <td>parquet</td>\n",
       "      <td>175000000</td>\n",
       "      <td>1.012710</td>\n",
       "      <td>1</td>\n",
       "    </tr>\n",
       "    <tr>\n",
       "      <th>519</th>\n",
       "      <td>spark</td>\n",
       "      <td>parquet</td>\n",
       "      <td>200000000</td>\n",
       "      <td>0.977054</td>\n",
       "      <td>1</td>\n",
       "    </tr>\n",
       "  </tbody>\n",
       "</table>\n",
       "<p>520 rows × 5 columns</p>\n",
       "</div>"
      ],
      "text/plain": [
       "     engine     file       size      time  min_max\n",
       "0    pandas      csv     500000  0.041279        1\n",
       "1    pandas      csv    1000000  0.071730        1\n",
       "2    pandas      csv    5000000  0.420342        1\n",
       "3    pandas      csv   10000000  0.853514        1\n",
       "4    pandas      csv   15000000  1.344369        1\n",
       "..      ...      ...        ...       ...      ...\n",
       "515   spark  parquet  100000000  0.976232        1\n",
       "516   spark  parquet  125000000  0.976109        1\n",
       "517   spark  parquet  150000000  0.979737        1\n",
       "518   spark  parquet  175000000  1.012710        1\n",
       "519   spark  parquet  200000000  0.977054        1\n",
       "\n",
       "[520 rows x 5 columns]"
      ]
     },
     "execution_count": 17,
     "metadata": {},
     "output_type": "execute_result"
    }
   ],
   "source": [
    "df_max = df.groupby(['engine','file','size']).agg({'time':'max'})\n",
    "df_max['min_max'] = 1\n",
    "df_min = df.groupby(['engine','file','size']).agg({'time':'min'})\n",
    "df_min['min_max'] = 1\n",
    "df_min_max = pd.concat([df_min,df_max])\n",
    "df_min_max = df_min_max.reset_index()\n",
    "df_min_max"
   ]
  },
  {
   "cell_type": "code",
   "execution_count": 18,
   "metadata": {},
   "outputs": [
    {
     "data": {
      "text/html": [
       "<div>\n",
       "<style scoped>\n",
       "    .dataframe tbody tr th:only-of-type {\n",
       "        vertical-align: middle;\n",
       "    }\n",
       "\n",
       "    .dataframe tbody tr th {\n",
       "        vertical-align: top;\n",
       "    }\n",
       "\n",
       "    .dataframe thead th {\n",
       "        text-align: right;\n",
       "    }\n",
       "</style>\n",
       "<table border=\"1\" class=\"dataframe\">\n",
       "  <thead>\n",
       "    <tr style=\"text-align: right;\">\n",
       "      <th></th>\n",
       "      <th>engine</th>\n",
       "      <th>file</th>\n",
       "      <th>size</th>\n",
       "      <th>run</th>\n",
       "      <th>time</th>\n",
       "    </tr>\n",
       "  </thead>\n",
       "  <tbody>\n",
       "    <tr>\n",
       "      <th>1</th>\n",
       "      <td>pandas_cudf</td>\n",
       "      <td>csv</td>\n",
       "      <td>500000</td>\n",
       "      <td>2</td>\n",
       "      <td>0.005645</td>\n",
       "    </tr>\n",
       "    <tr>\n",
       "      <th>2</th>\n",
       "      <td>pandas_cudf</td>\n",
       "      <td>csv</td>\n",
       "      <td>500000</td>\n",
       "      <td>3</td>\n",
       "      <td>0.006399</td>\n",
       "    </tr>\n",
       "    <tr>\n",
       "      <th>3</th>\n",
       "      <td>pandas_cudf</td>\n",
       "      <td>csv</td>\n",
       "      <td>500000</td>\n",
       "      <td>4</td>\n",
       "      <td>0.005191</td>\n",
       "    </tr>\n",
       "    <tr>\n",
       "      <th>4</th>\n",
       "      <td>pandas_cudf</td>\n",
       "      <td>csv</td>\n",
       "      <td>500000</td>\n",
       "      <td>5</td>\n",
       "      <td>0.005468</td>\n",
       "    </tr>\n",
       "    <tr>\n",
       "      <th>5</th>\n",
       "      <td>pandas_cudf</td>\n",
       "      <td>csv</td>\n",
       "      <td>500000</td>\n",
       "      <td>6</td>\n",
       "      <td>0.005985</td>\n",
       "    </tr>\n",
       "    <tr>\n",
       "      <th>...</th>\n",
       "      <td>...</td>\n",
       "      <td>...</td>\n",
       "      <td>...</td>\n",
       "      <td>...</td>\n",
       "      <td>...</td>\n",
       "    </tr>\n",
       "    <tr>\n",
       "      <th>3126</th>\n",
       "      <td>spark</td>\n",
       "      <td>csv</td>\n",
       "      <td>200000000</td>\n",
       "      <td>7</td>\n",
       "      <td>0.061613</td>\n",
       "    </tr>\n",
       "    <tr>\n",
       "      <th>3127</th>\n",
       "      <td>spark</td>\n",
       "      <td>csv</td>\n",
       "      <td>200000000</td>\n",
       "      <td>8</td>\n",
       "      <td>0.055526</td>\n",
       "    </tr>\n",
       "    <tr>\n",
       "      <th>3128</th>\n",
       "      <td>spark</td>\n",
       "      <td>csv</td>\n",
       "      <td>200000000</td>\n",
       "      <td>9</td>\n",
       "      <td>0.047953</td>\n",
       "    </tr>\n",
       "    <tr>\n",
       "      <th>3130</th>\n",
       "      <td>spark</td>\n",
       "      <td>csv</td>\n",
       "      <td>200000000</td>\n",
       "      <td>11</td>\n",
       "      <td>0.055455</td>\n",
       "    </tr>\n",
       "    <tr>\n",
       "      <th>3131</th>\n",
       "      <td>spark</td>\n",
       "      <td>csv</td>\n",
       "      <td>200000000</td>\n",
       "      <td>12</td>\n",
       "      <td>0.050255</td>\n",
       "    </tr>\n",
       "  </tbody>\n",
       "</table>\n",
       "<p>2612 rows × 5 columns</p>\n",
       "</div>"
      ],
      "text/plain": [
       "           engine file       size  run      time\n",
       "1     pandas_cudf  csv     500000    2  0.005645\n",
       "2     pandas_cudf  csv     500000    3  0.006399\n",
       "3     pandas_cudf  csv     500000    4  0.005191\n",
       "4     pandas_cudf  csv     500000    5  0.005468\n",
       "5     pandas_cudf  csv     500000    6  0.005985\n",
       "...           ...  ...        ...  ...       ...\n",
       "3126        spark  csv  200000000    7  0.061613\n",
       "3127        spark  csv  200000000    8  0.055526\n",
       "3128        spark  csv  200000000    9  0.047953\n",
       "3130        spark  csv  200000000   11  0.055455\n",
       "3131        spark  csv  200000000   12  0.050255\n",
       "\n",
       "[2612 rows x 5 columns]"
      ]
     },
     "execution_count": 18,
     "metadata": {},
     "output_type": "execute_result"
    }
   ],
   "source": [
    "df_filtered = (\n",
    "    df\n",
    "    .merge(df_min_max, on=['engine','file','size','time'], how='left')\n",
    ")\n",
    "\n",
    "df_filtered = df_filtered[df_filtered['min_max'].isnull()]\n",
    "df_filtered = df_filtered.drop('min_max', axis=1)\n",
    "df_filtered"
   ]
  },
  {
   "cell_type": "code",
   "execution_count": 19,
   "metadata": {},
   "outputs": [
    {
     "data": {
      "text/html": [
       "<div>\n",
       "<style scoped>\n",
       "    .dataframe tbody tr th:only-of-type {\n",
       "        vertical-align: middle;\n",
       "    }\n",
       "\n",
       "    .dataframe tbody tr th {\n",
       "        vertical-align: top;\n",
       "    }\n",
       "\n",
       "    .dataframe thead th {\n",
       "        text-align: right;\n",
       "    }\n",
       "</style>\n",
       "<table border=\"1\" class=\"dataframe\">\n",
       "  <thead>\n",
       "    <tr style=\"text-align: right;\">\n",
       "      <th></th>\n",
       "      <th>engine</th>\n",
       "      <th>file</th>\n",
       "      <th>size</th>\n",
       "      <th>time</th>\n",
       "      <th>engine_file</th>\n",
       "    </tr>\n",
       "  </thead>\n",
       "  <tbody>\n",
       "    <tr>\n",
       "      <th>0</th>\n",
       "      <td>pandas</td>\n",
       "      <td>csv</td>\n",
       "      <td>500000</td>\n",
       "      <td>0.044428</td>\n",
       "      <td>pandas-csv</td>\n",
       "    </tr>\n",
       "    <tr>\n",
       "      <th>1</th>\n",
       "      <td>pandas</td>\n",
       "      <td>csv</td>\n",
       "      <td>1000000</td>\n",
       "      <td>0.076757</td>\n",
       "      <td>pandas-csv</td>\n",
       "    </tr>\n",
       "    <tr>\n",
       "      <th>2</th>\n",
       "      <td>pandas</td>\n",
       "      <td>csv</td>\n",
       "      <td>5000000</td>\n",
       "      <td>0.424388</td>\n",
       "      <td>pandas-csv</td>\n",
       "    </tr>\n",
       "    <tr>\n",
       "      <th>3</th>\n",
       "      <td>pandas</td>\n",
       "      <td>csv</td>\n",
       "      <td>10000000</td>\n",
       "      <td>0.855994</td>\n",
       "      <td>pandas-csv</td>\n",
       "    </tr>\n",
       "    <tr>\n",
       "      <th>4</th>\n",
       "      <td>pandas</td>\n",
       "      <td>csv</td>\n",
       "      <td>15000000</td>\n",
       "      <td>1.358373</td>\n",
       "      <td>pandas-csv</td>\n",
       "    </tr>\n",
       "    <tr>\n",
       "      <th>...</th>\n",
       "      <td>...</td>\n",
       "      <td>...</td>\n",
       "      <td>...</td>\n",
       "      <td>...</td>\n",
       "      <td>...</td>\n",
       "    </tr>\n",
       "    <tr>\n",
       "      <th>255</th>\n",
       "      <td>spark</td>\n",
       "      <td>parquet</td>\n",
       "      <td>100000000</td>\n",
       "      <td>0.035743</td>\n",
       "      <td>spark-parquet</td>\n",
       "    </tr>\n",
       "    <tr>\n",
       "      <th>256</th>\n",
       "      <td>spark</td>\n",
       "      <td>parquet</td>\n",
       "      <td>125000000</td>\n",
       "      <td>0.035751</td>\n",
       "      <td>spark-parquet</td>\n",
       "    </tr>\n",
       "    <tr>\n",
       "      <th>257</th>\n",
       "      <td>spark</td>\n",
       "      <td>parquet</td>\n",
       "      <td>150000000</td>\n",
       "      <td>0.035297</td>\n",
       "      <td>spark-parquet</td>\n",
       "    </tr>\n",
       "    <tr>\n",
       "      <th>258</th>\n",
       "      <td>spark</td>\n",
       "      <td>parquet</td>\n",
       "      <td>175000000</td>\n",
       "      <td>0.036641</td>\n",
       "      <td>spark-parquet</td>\n",
       "    </tr>\n",
       "    <tr>\n",
       "      <th>259</th>\n",
       "      <td>spark</td>\n",
       "      <td>parquet</td>\n",
       "      <td>200000000</td>\n",
       "      <td>0.036159</td>\n",
       "      <td>spark-parquet</td>\n",
       "    </tr>\n",
       "  </tbody>\n",
       "</table>\n",
       "<p>260 rows × 5 columns</p>\n",
       "</div>"
      ],
      "text/plain": [
       "     engine     file       size      time    engine_file\n",
       "0    pandas      csv     500000  0.044428     pandas-csv\n",
       "1    pandas      csv    1000000  0.076757     pandas-csv\n",
       "2    pandas      csv    5000000  0.424388     pandas-csv\n",
       "3    pandas      csv   10000000  0.855994     pandas-csv\n",
       "4    pandas      csv   15000000  1.358373     pandas-csv\n",
       "..      ...      ...        ...       ...            ...\n",
       "255   spark  parquet  100000000  0.035743  spark-parquet\n",
       "256   spark  parquet  125000000  0.035751  spark-parquet\n",
       "257   spark  parquet  150000000  0.035297  spark-parquet\n",
       "258   spark  parquet  175000000  0.036641  spark-parquet\n",
       "259   spark  parquet  200000000  0.036159  spark-parquet\n",
       "\n",
       "[260 rows x 5 columns]"
      ]
     },
     "execution_count": 19,
     "metadata": {},
     "output_type": "execute_result"
    }
   ],
   "source": [
    "df_mean = (\n",
    "    df_filtered\n",
    "    .groupby(['engine','file','size'])\n",
    "    .agg(\n",
    "        {\n",
    "            'time':'mean'\n",
    "        }\n",
    "    )\n",
    ")\n",
    "df_mean = df_mean.reset_index()\n",
    "df_mean['engine_file'] = df_mean['engine']+'-'+df_mean['file']\n",
    "df_mean"
   ]
  },
  {
   "cell_type": "code",
   "execution_count": 20,
   "metadata": {},
   "outputs": [
    {
     "data": {
      "application/vnd.plotly.v1+json": {
       "config": {
        "plotlyServerURL": "https://plot.ly"
       },
       "data": [
        {
         "hovertemplate": "Engine - File=pandas-csv<br># of lines=%{x}<br>Time (s)=%{y}<extra></extra>",
         "legendgroup": "pandas-csv",
         "line": {
          "color": "#636efa",
          "dash": "solid"
         },
         "marker": {
          "symbol": "circle"
         },
         "mode": "lines+markers",
         "name": "pandas-csv",
         "orientation": "v",
         "showlegend": true,
         "type": "scatter",
         "x": {
          "bdata": "IKEHAEBCDwBAS0wAgJaYAMDh5AAALTEBQHh9AYDDyQHADhYCAFpiAkClrgKA8PoCwDtHAwCHkwNA0t8DgB0sBMBoeAQAtMQEQP8QBYBKXQXAlakFAOH1BUBZcweA0fAIwEluCgDC6ws=",
          "dtype": "i4"
         },
         "xaxis": "x",
         "y": {
          "bdata": "YmZmZkK/pj8wMzMzU6azP2ZmZmYqKds/zczMDE1k6z8zMzPT5Lv1PzMzM/My6Pw/ZmZmlmQuAkAzMzPzDIUFQGZmZobi8ghAMzMzc0I8DEAAAACQCwYQQJqZmdEc2BFAMzMz+0r+E0AAAADwHK0VQJqZmYGy0BdAAAAAaPRyGUAzMzOrLYMbQJqZmbniKR1AMzMzG9ftHkAAAABAkrYgQDMzM9MC8SFAmpmZkQVjIkAAAABY/2MnQAAAAFC2zixAzczMVEW9MECamZkR/50zQA==",
          "dtype": "f8"
         },
         "yaxis": "y"
        },
        {
         "hovertemplate": "Engine - File=pandas-parquet<br># of lines=%{x}<br>Time (s)=%{y}<extra></extra>",
         "legendgroup": "pandas-parquet",
         "line": {
          "color": "#EF553B",
          "dash": "solid"
         },
         "marker": {
          "symbol": "circle"
         },
         "mode": "lines+markers",
         "name": "pandas-parquet",
         "orientation": "v",
         "showlegend": true,
         "type": "scatter",
         "x": {
          "bdata": "IKEHAEBCDwBAS0wAgJaYAMDh5AAALTEBQHh9AYDDyQHADhYCAFpiAkClrgKA8PoCwDtHAwCHkwNA0t8DgB0sBMBoeAQAtMQEQP8QBYBKXQXAlakFAOH1BUBZcweA0fAIwEluCgDC6ws=",
          "dtype": "i4"
         },
         "xaxis": "x",
         "y": {
          "bdata": "UGZmZhbzhj/v////F2GSP5aZmZllnrI/MjMzM/ewwT+YmZmZoKXKP2ZmZubz2dE/zMzMTC471z+amZmZGzncP83MzEzASN8/AAAAQKfj4T8zMzMzhwTkP5qZmZnobeY/zczMDF2e6D/NzMzMZb/qPzMzM/Mao+w/zczMzA+r7j/NzMysUnHwP83MzAyp+vE/zczMjGq48j9mZmZG7bTzPwAAAOC8uPQ/mpmZeYLf9T8zMzPTbzD8PzMzM0NeAQBAzczMzIDzAkDNzMwcVdEFQA==",
          "dtype": "f8"
         },
         "yaxis": "y"
        },
        {
         "hovertemplate": "Engine - File=pandas_cudf-csv<br># of lines=%{x}<br>Time (s)=%{y}<extra></extra>",
         "legendgroup": "pandas_cudf-csv",
         "line": {
          "color": "#00cc96",
          "dash": "solid"
         },
         "marker": {
          "symbol": "circle"
         },
         "mode": "lines+markers",
         "name": "pandas_cudf-csv",
         "orientation": "v",
         "showlegend": true,
         "type": "scatter",
         "x": {
          "bdata": "IKEHAEBCDwBAS0wAgJaYAMDh5AAALTEBQHh9AYDDyQHADhYCAFpiAkClrgKA8PoCwDtHAwCHkwNA0t8DgB0sBMBoeAQAtMQEQP8QBYBKXQXAlakFAOH1BUBZcweA0fAIwEluCgDC6ws=",
          "dtype": "i4"
         },
         "xaxis": "x",
         "y": {
          "bdata": "lszMzOwVdz8PMzMzoyKAP1tmZmb2dZw/LjMzM7/sqj/+////0SK0P8rMzMzY1ro//////8CGwD8yMzMzb9TDPzIzMzMvPsc/ZWZmZn+dyz/+////LzTOPwAAAADs29A/MjMzM2qf0j8yMzMzcULUP5qZmRmhPNY/MzMzs8b51z/NzMxMeqvZPzMzM7NYzds/ZmZm5gm53T/NzMyMymHgP5qZmZk4w+A/mpmZ7T2WIkAAAAAc6a4nQGZmZiJQ4ixAZmZmcp2tMEBmZmboMkYzQA==",
          "dtype": "f8"
         },
         "yaxis": "y"
        },
        {
         "hovertemplate": "Engine - File=pandas_cudf-parquet<br># of lines=%{x}<br>Time (s)=%{y}<extra></extra>",
         "legendgroup": "pandas_cudf-parquet",
         "line": {
          "color": "#ab63fa",
          "dash": "solid"
         },
         "marker": {
          "symbol": "circle"
         },
         "mode": "lines+markers",
         "name": "pandas_cudf-parquet",
         "orientation": "v",
         "showlegend": true,
         "type": "scatter",
         "x": {
          "bdata": "IKEHAEBCDwBAS0wAgJaYAMDh5AAALTEBQHh9AYDDyQHADhYCAFpiAkClrgKA8PoCwDtHAwCHkwNA0t8DgB0sBMBoeAQAtMQEQP8QBYBKXQXAlakFAOH1BUBZcweA0fAIwEluCgDC6ws=",
          "dtype": "i4"
         },
         "xaxis": "x",
         "y": {
          "bdata": "XmZmZlY6rD/FzMzMAIGsP5OZmZkZZ64/yszMzHRisD8wMzMz35OxP8rMzMxUA7M/LzMzM78LtD/KzMzMTCq0PzAzMzNxFLU//f///2fstT9kZmZmkAy3P5aZmZktvrg/l5mZmXsquT8wMzMzM5W6Py4zMzMjo7o/yszMzGQWvD/KzMzMmIq8P/3///9tw70/MDMzMyG3vj+WmZmZZXa/P2VmZmYdT8A/MjMzM8HkwD9lZmZmXCDDP2VmZmbaoMU/ZWZmZs8YyD/+////wvfLPw==",
          "dtype": "f8"
         },
         "yaxis": "y"
        },
        {
         "hovertemplate": "Engine - File=polars-csv<br># of lines=%{x}<br>Time (s)=%{y}<extra></extra>",
         "legendgroup": "polars-csv",
         "line": {
          "color": "#FFA15A",
          "dash": "solid"
         },
         "marker": {
          "symbol": "circle"
         },
         "mode": "lines+markers",
         "name": "polars-csv",
         "orientation": "v",
         "showlegend": true,
         "type": "scatter",
         "x": {
          "bdata": "IKEHAEBCDwBAS0wAgJaYAMDh5AAALTEBQHh9AYDDyQHADhYCAFpiAkClrgKA8PoCwDtHAwCHkwNA0t8DgB0sBMBoeAQAtMQEQP8QBYBKXQXAlakFAOH1BUBZcweA0fAIwEluCgDC6ws=",
          "dtype": "i4"
         },
         "xaxis": "x",
         "y": {
          "bdata": "ImZmZsaMdD9QZmZmtkSEP/3///97XLU/y8zMzMXMxT8yMzMz03XPP2ZmZubBvtQ/MzMzs+ZX2T/NzMxMRgneP2ZmZuZOiuE/MzMzM6et4z+amZkZfgrmP5qZmRnG1ug/MzMzczmH6z/NzMwMknjuP5qZmTkfWfA/MzMzU3fJ8T8zMzOzGivzPwAAAICthPQ/mpmZudiK9T8zMzMTaSH3PwAAACBIEPk/ZmZmpr/3+D+amZl5mk7+PzMzM8PxGgNAMzMz8/jBBkCamZnpI1YKQA==",
          "dtype": "f8"
         },
         "yaxis": "y"
        },
        {
         "hovertemplate": "Engine - File=polars-parquet<br># of lines=%{x}<br>Time (s)=%{y}<extra></extra>",
         "legendgroup": "polars-parquet",
         "line": {
          "color": "#19d3f3",
          "dash": "solid"
         },
         "marker": {
          "symbol": "circle"
         },
         "mode": "lines+markers",
         "name": "polars-parquet",
         "orientation": "v",
         "showlegend": true,
         "type": "scatter",
         "x": {
          "bdata": "IKEHAEBCDwBAS0wAgJaYAMDh5AAALTEBQHh9AYDDyQHADhYCAFpiAkClrgKA8PoCwDtHAwCHkwNA0t8DgB0sBMBoeAQAtMQEQP8QBYBKXQXAlakFAOH1BUBZcweA0fAIwEluCgDC6ws=",
          "dtype": "i4"
         },
         "xaxis": "x",
         "y": {
          "bdata": "Pi666CJ/cz/k////H6eAP15mZmaycaY//v///y1PwT8yMzMz1a/JP5qZmRk3a9E/mZmZmdZy1T8zMzMzGpPZPzMzM7MyyN0/mpmZGV724D8AAABAcBPjP5qZmRn3S+U/mpmZWcFS5z9mZmYm70bpP2ZmZibAYOs/ZmZm5uJ47T8zMzMz+GLvPzMzMzMZtPA/AAAAQBr68T+amZmZe+/yP5qZmXlInvM/zczMbCe89D+amZl5pkb6P5qZmVmpy/8/ZmZmNm2zAkAAAAAgef0EQA==",
          "dtype": "f8"
         },
         "yaxis": "y"
        },
        {
         "hovertemplate": "Engine - File=polars_cudf-csv<br># of lines=%{x}<br>Time (s)=%{y}<extra></extra>",
         "legendgroup": "polars_cudf-csv",
         "line": {
          "color": "#FF6692",
          "dash": "solid"
         },
         "marker": {
          "symbol": "circle"
         },
         "mode": "lines+markers",
         "name": "polars_cudf-csv",
         "orientation": "v",
         "showlegend": true,
         "type": "scatter",
         "x": {
          "bdata": "IKEHAEBCDwBAS0wAgJaYAMDh5AAALTEBQHh9AYDDyQHADhYCAFpiAkClrgKA8PoCwDtHAwCHkwNA0t8DgB0sBMBoeAQAtMQEQP8QBYBKXQXAlakFAOH1BUBZcweA0fAIwEluCgDC6ws=",
          "dtype": "i4"
         },
         "xaxis": "x",
         "y": {
          "bdata": "XszMzEzvaz9UmZmZOeNyPygzMzNLppA/i5mZmXkunz8tMzMz6zmnP8bMzMxU664/yszMzOQbsz+WmZmZ++O2P2NmZma2vbo/Y2ZmZp75vj+YmZmZr5rBP5iZmZmf28M/MjMzMzhlxj9lZmZmOyvIP/7///9uDMs//v///+o8zT+amZmZAsXRP83MzEz0ANE/zMzMzOhe0j+amZkZqtDSP2ZmZuYB1tM/zMzMTAvY1D8AAAAANJPaP5qZmRm6C+E/zczMTIFD6z+amZlZ5SfoPw==",
          "dtype": "f8"
         },
         "yaxis": "y"
        },
        {
         "hovertemplate": "Engine - File=polars_cudf-parquet<br># of lines=%{x}<br>Time (s)=%{y}<extra></extra>",
         "legendgroup": "polars_cudf-parquet",
         "line": {
          "color": "#B6E880",
          "dash": "solid"
         },
         "marker": {
          "symbol": "circle"
         },
         "mode": "lines+markers",
         "name": "polars_cudf-parquet",
         "orientation": "v",
         "showlegend": true,
         "type": "scatter",
         "x": {
          "bdata": "IKEHAEBCDwBAS0wAgJaYAMDh5AAALTEBQHh9AYDDyQHADhYCAFpiAkClrgKA8PoCwDtHAwCHkwNA0t8DgB0sBMBoeAQAtMQEQP8QBYBKXQXAlakFAOH1BUBZcweA0fAIwEluCgDC6ws=",
          "dtype": "i4"
         },
         "xaxis": "x",
         "y": {
          "bdata": "k5mZmf0OrD+VmZmZZSqsP2BmZma6Ma4/MDMzM1kusD8uMzMzoxWxP8rMzMy69rE/yczMzFrNsj/+////D5GzP8rMzMwKgbQ//f///2lLtT9jZmZmzge2P/7////xEbc/lpmZmX8iuD/KzMzMHvq4P2NmZmaOsLk/Y2ZmZmq2uj+WmZmZg4+7P5iZmZlRjbw//f///1eMvT9jZmZmUFW+PzAzMzObDb8/MDMzMwHbvz8yMzMznGrCP8vMzMwrCsU/y8zMzGBexz+YmZmZ96zJPw==",
          "dtype": "f8"
         },
         "yaxis": "y"
        },
        {
         "hovertemplate": "Engine - File=spark-csv<br># of lines=%{x}<br>Time (s)=%{y}<extra></extra>",
         "legendgroup": "spark-csv",
         "line": {
          "color": "#FF97FF",
          "dash": "solid"
         },
         "marker": {
          "symbol": "circle"
         },
         "mode": "lines+markers",
         "name": "spark-csv",
         "orientation": "v",
         "showlegend": true,
         "type": "scatter",
         "x": {
          "bdata": "IKEHAEBCDwBAS0wAgJaYAMDh5AAALTEBQHh9AYDDyQHADhYCAFpiAkClrgKA8PoCwDtHAwCHkwNA0t8DgB0sBMBoeAQAtMQEQP8QBYBKXQXAlakFAOH1BUBZcweA0fAIwEluCgDC6ws=",
          "dtype": "i4"
         },
         "xaxis": "x",
         "y": {
          "bdata": "YGZmZuaDrj/FzMzMPJSuP/j///976q4/KzMzM5+2rj/6////T2muPyszMzN/nK8/k5mZmTGTrz+VmZmZxbOuP2BmZmaW864/LTMzM5MArz8xMzMzSUywPzAzMzOpNrA//v///2EasD9jZmZmPGewP8rMzMw0GbA/lpmZmQEisD+VmZmZJ2OwP2JmZmbKk7I/lpmZmdkisD+WmZmZazGwPzAzMzNHk7A/lZmZmbXyrz8wMzMzpVGwPzAzMzNbkLA/yczMzIRusD8vMzMzWUqwPw==",
          "dtype": "f8"
         },
         "yaxis": "y"
        },
        {
         "hovertemplate": "Engine - File=spark-parquet<br># of lines=%{x}<br>Time (s)=%{y}<extra></extra>",
         "legendgroup": "spark-parquet",
         "line": {
          "color": "#FECB52",
          "dash": "solid"
         },
         "marker": {
          "symbol": "circle"
         },
         "mode": "lines+markers",
         "name": "spark-parquet",
         "orientation": "v",
         "showlegend": true,
         "type": "scatter",
         "x": {
          "bdata": "IKEHAEBCDwBAS0wAgJaYAMDh5AAALTEBQHh9AYDDyQHADhYCAFpiAkClrgKA8PoCwDtHAwCHkwNA0t8DgB0sBMBoeAQAtMQEQP8QBYBKXQXAlakFAOH1BUBZcweA0fAIwEluCgDC6ws=",
          "dtype": "i4"
         },
         "xaxis": "x",
         "y": {
          "bdata": "XmZmZib9oT/6////78OiP15mZmYWEaI/LDMzMyuioT9dZmZmSiWiP8bMzMzMoKI/LDMzM2MPoj/4////Ux6iPy4zMzMHAaI/xszMzPwtoj9gZmZmqiaiP5CZmZnhn6I/+v///1OMoj/GzMzMxCCiP/r////rLKI/YWZmZjo0oj9eZmZmtkqiP8bMzMx0T6I/x8zMzPAToj9eZmZmwqeiP/j///+rQqM/+f///9dMoj+VmZmZ7U2iP5OZmZl9EqI/xszMzJjCoj9gZmZmboOiPw==",
          "dtype": "f8"
         },
         "yaxis": "y"
        }
       ],
       "layout": {
        "height": 800,
        "legend": {
         "title": {
          "text": "Engine - File"
         },
         "tracegroupgap": 0
        },
        "template": {
         "data": {
          "bar": [
           {
            "error_x": {
             "color": "#2a3f5f"
            },
            "error_y": {
             "color": "#2a3f5f"
            },
            "marker": {
             "line": {
              "color": "#E5ECF6",
              "width": 0.5
             },
             "pattern": {
              "fillmode": "overlay",
              "size": 10,
              "solidity": 0.2
             }
            },
            "type": "bar"
           }
          ],
          "barpolar": [
           {
            "marker": {
             "line": {
              "color": "#E5ECF6",
              "width": 0.5
             },
             "pattern": {
              "fillmode": "overlay",
              "size": 10,
              "solidity": 0.2
             }
            },
            "type": "barpolar"
           }
          ],
          "carpet": [
           {
            "aaxis": {
             "endlinecolor": "#2a3f5f",
             "gridcolor": "white",
             "linecolor": "white",
             "minorgridcolor": "white",
             "startlinecolor": "#2a3f5f"
            },
            "baxis": {
             "endlinecolor": "#2a3f5f",
             "gridcolor": "white",
             "linecolor": "white",
             "minorgridcolor": "white",
             "startlinecolor": "#2a3f5f"
            },
            "type": "carpet"
           }
          ],
          "choropleth": [
           {
            "colorbar": {
             "outlinewidth": 0,
             "ticks": ""
            },
            "type": "choropleth"
           }
          ],
          "contour": [
           {
            "colorbar": {
             "outlinewidth": 0,
             "ticks": ""
            },
            "colorscale": [
             [
              0,
              "#0d0887"
             ],
             [
              0.1111111111111111,
              "#46039f"
             ],
             [
              0.2222222222222222,
              "#7201a8"
             ],
             [
              0.3333333333333333,
              "#9c179e"
             ],
             [
              0.4444444444444444,
              "#bd3786"
             ],
             [
              0.5555555555555556,
              "#d8576b"
             ],
             [
              0.6666666666666666,
              "#ed7953"
             ],
             [
              0.7777777777777778,
              "#fb9f3a"
             ],
             [
              0.8888888888888888,
              "#fdca26"
             ],
             [
              1,
              "#f0f921"
             ]
            ],
            "type": "contour"
           }
          ],
          "contourcarpet": [
           {
            "colorbar": {
             "outlinewidth": 0,
             "ticks": ""
            },
            "type": "contourcarpet"
           }
          ],
          "heatmap": [
           {
            "colorbar": {
             "outlinewidth": 0,
             "ticks": ""
            },
            "colorscale": [
             [
              0,
              "#0d0887"
             ],
             [
              0.1111111111111111,
              "#46039f"
             ],
             [
              0.2222222222222222,
              "#7201a8"
             ],
             [
              0.3333333333333333,
              "#9c179e"
             ],
             [
              0.4444444444444444,
              "#bd3786"
             ],
             [
              0.5555555555555556,
              "#d8576b"
             ],
             [
              0.6666666666666666,
              "#ed7953"
             ],
             [
              0.7777777777777778,
              "#fb9f3a"
             ],
             [
              0.8888888888888888,
              "#fdca26"
             ],
             [
              1,
              "#f0f921"
             ]
            ],
            "type": "heatmap"
           }
          ],
          "histogram": [
           {
            "marker": {
             "pattern": {
              "fillmode": "overlay",
              "size": 10,
              "solidity": 0.2
             }
            },
            "type": "histogram"
           }
          ],
          "histogram2d": [
           {
            "colorbar": {
             "outlinewidth": 0,
             "ticks": ""
            },
            "colorscale": [
             [
              0,
              "#0d0887"
             ],
             [
              0.1111111111111111,
              "#46039f"
             ],
             [
              0.2222222222222222,
              "#7201a8"
             ],
             [
              0.3333333333333333,
              "#9c179e"
             ],
             [
              0.4444444444444444,
              "#bd3786"
             ],
             [
              0.5555555555555556,
              "#d8576b"
             ],
             [
              0.6666666666666666,
              "#ed7953"
             ],
             [
              0.7777777777777778,
              "#fb9f3a"
             ],
             [
              0.8888888888888888,
              "#fdca26"
             ],
             [
              1,
              "#f0f921"
             ]
            ],
            "type": "histogram2d"
           }
          ],
          "histogram2dcontour": [
           {
            "colorbar": {
             "outlinewidth": 0,
             "ticks": ""
            },
            "colorscale": [
             [
              0,
              "#0d0887"
             ],
             [
              0.1111111111111111,
              "#46039f"
             ],
             [
              0.2222222222222222,
              "#7201a8"
             ],
             [
              0.3333333333333333,
              "#9c179e"
             ],
             [
              0.4444444444444444,
              "#bd3786"
             ],
             [
              0.5555555555555556,
              "#d8576b"
             ],
             [
              0.6666666666666666,
              "#ed7953"
             ],
             [
              0.7777777777777778,
              "#fb9f3a"
             ],
             [
              0.8888888888888888,
              "#fdca26"
             ],
             [
              1,
              "#f0f921"
             ]
            ],
            "type": "histogram2dcontour"
           }
          ],
          "mesh3d": [
           {
            "colorbar": {
             "outlinewidth": 0,
             "ticks": ""
            },
            "type": "mesh3d"
           }
          ],
          "parcoords": [
           {
            "line": {
             "colorbar": {
              "outlinewidth": 0,
              "ticks": ""
             }
            },
            "type": "parcoords"
           }
          ],
          "pie": [
           {
            "automargin": true,
            "type": "pie"
           }
          ],
          "scatter": [
           {
            "fillpattern": {
             "fillmode": "overlay",
             "size": 10,
             "solidity": 0.2
            },
            "type": "scatter"
           }
          ],
          "scatter3d": [
           {
            "line": {
             "colorbar": {
              "outlinewidth": 0,
              "ticks": ""
             }
            },
            "marker": {
             "colorbar": {
              "outlinewidth": 0,
              "ticks": ""
             }
            },
            "type": "scatter3d"
           }
          ],
          "scattercarpet": [
           {
            "marker": {
             "colorbar": {
              "outlinewidth": 0,
              "ticks": ""
             }
            },
            "type": "scattercarpet"
           }
          ],
          "scattergeo": [
           {
            "marker": {
             "colorbar": {
              "outlinewidth": 0,
              "ticks": ""
             }
            },
            "type": "scattergeo"
           }
          ],
          "scattergl": [
           {
            "marker": {
             "colorbar": {
              "outlinewidth": 0,
              "ticks": ""
             }
            },
            "type": "scattergl"
           }
          ],
          "scattermap": [
           {
            "marker": {
             "colorbar": {
              "outlinewidth": 0,
              "ticks": ""
             }
            },
            "type": "scattermap"
           }
          ],
          "scattermapbox": [
           {
            "marker": {
             "colorbar": {
              "outlinewidth": 0,
              "ticks": ""
             }
            },
            "type": "scattermapbox"
           }
          ],
          "scatterpolar": [
           {
            "marker": {
             "colorbar": {
              "outlinewidth": 0,
              "ticks": ""
             }
            },
            "type": "scatterpolar"
           }
          ],
          "scatterpolargl": [
           {
            "marker": {
             "colorbar": {
              "outlinewidth": 0,
              "ticks": ""
             }
            },
            "type": "scatterpolargl"
           }
          ],
          "scatterternary": [
           {
            "marker": {
             "colorbar": {
              "outlinewidth": 0,
              "ticks": ""
             }
            },
            "type": "scatterternary"
           }
          ],
          "surface": [
           {
            "colorbar": {
             "outlinewidth": 0,
             "ticks": ""
            },
            "colorscale": [
             [
              0,
              "#0d0887"
             ],
             [
              0.1111111111111111,
              "#46039f"
             ],
             [
              0.2222222222222222,
              "#7201a8"
             ],
             [
              0.3333333333333333,
              "#9c179e"
             ],
             [
              0.4444444444444444,
              "#bd3786"
             ],
             [
              0.5555555555555556,
              "#d8576b"
             ],
             [
              0.6666666666666666,
              "#ed7953"
             ],
             [
              0.7777777777777778,
              "#fb9f3a"
             ],
             [
              0.8888888888888888,
              "#fdca26"
             ],
             [
              1,
              "#f0f921"
             ]
            ],
            "type": "surface"
           }
          ],
          "table": [
           {
            "cells": {
             "fill": {
              "color": "#EBF0F8"
             },
             "line": {
              "color": "white"
             }
            },
            "header": {
             "fill": {
              "color": "#C8D4E3"
             },
             "line": {
              "color": "white"
             }
            },
            "type": "table"
           }
          ]
         },
         "layout": {
          "annotationdefaults": {
           "arrowcolor": "#2a3f5f",
           "arrowhead": 0,
           "arrowwidth": 1
          },
          "autotypenumbers": "strict",
          "coloraxis": {
           "colorbar": {
            "outlinewidth": 0,
            "ticks": ""
           }
          },
          "colorscale": {
           "diverging": [
            [
             0,
             "#8e0152"
            ],
            [
             0.1,
             "#c51b7d"
            ],
            [
             0.2,
             "#de77ae"
            ],
            [
             0.3,
             "#f1b6da"
            ],
            [
             0.4,
             "#fde0ef"
            ],
            [
             0.5,
             "#f7f7f7"
            ],
            [
             0.6,
             "#e6f5d0"
            ],
            [
             0.7,
             "#b8e186"
            ],
            [
             0.8,
             "#7fbc41"
            ],
            [
             0.9,
             "#4d9221"
            ],
            [
             1,
             "#276419"
            ]
           ],
           "sequential": [
            [
             0,
             "#0d0887"
            ],
            [
             0.1111111111111111,
             "#46039f"
            ],
            [
             0.2222222222222222,
             "#7201a8"
            ],
            [
             0.3333333333333333,
             "#9c179e"
            ],
            [
             0.4444444444444444,
             "#bd3786"
            ],
            [
             0.5555555555555556,
             "#d8576b"
            ],
            [
             0.6666666666666666,
             "#ed7953"
            ],
            [
             0.7777777777777778,
             "#fb9f3a"
            ],
            [
             0.8888888888888888,
             "#fdca26"
            ],
            [
             1,
             "#f0f921"
            ]
           ],
           "sequentialminus": [
            [
             0,
             "#0d0887"
            ],
            [
             0.1111111111111111,
             "#46039f"
            ],
            [
             0.2222222222222222,
             "#7201a8"
            ],
            [
             0.3333333333333333,
             "#9c179e"
            ],
            [
             0.4444444444444444,
             "#bd3786"
            ],
            [
             0.5555555555555556,
             "#d8576b"
            ],
            [
             0.6666666666666666,
             "#ed7953"
            ],
            [
             0.7777777777777778,
             "#fb9f3a"
            ],
            [
             0.8888888888888888,
             "#fdca26"
            ],
            [
             1,
             "#f0f921"
            ]
           ]
          },
          "colorway": [
           "#636efa",
           "#EF553B",
           "#00cc96",
           "#ab63fa",
           "#FFA15A",
           "#19d3f3",
           "#FF6692",
           "#B6E880",
           "#FF97FF",
           "#FECB52"
          ],
          "font": {
           "color": "#2a3f5f"
          },
          "geo": {
           "bgcolor": "white",
           "lakecolor": "white",
           "landcolor": "#E5ECF6",
           "showlakes": true,
           "showland": true,
           "subunitcolor": "white"
          },
          "hoverlabel": {
           "align": "left"
          },
          "hovermode": "closest",
          "mapbox": {
           "style": "light"
          },
          "paper_bgcolor": "white",
          "plot_bgcolor": "#E5ECF6",
          "polar": {
           "angularaxis": {
            "gridcolor": "white",
            "linecolor": "white",
            "ticks": ""
           },
           "bgcolor": "#E5ECF6",
           "radialaxis": {
            "gridcolor": "white",
            "linecolor": "white",
            "ticks": ""
           }
          },
          "scene": {
           "xaxis": {
            "backgroundcolor": "#E5ECF6",
            "gridcolor": "white",
            "gridwidth": 2,
            "linecolor": "white",
            "showbackground": true,
            "ticks": "",
            "zerolinecolor": "white"
           },
           "yaxis": {
            "backgroundcolor": "#E5ECF6",
            "gridcolor": "white",
            "gridwidth": 2,
            "linecolor": "white",
            "showbackground": true,
            "ticks": "",
            "zerolinecolor": "white"
           },
           "zaxis": {
            "backgroundcolor": "#E5ECF6",
            "gridcolor": "white",
            "gridwidth": 2,
            "linecolor": "white",
            "showbackground": true,
            "ticks": "",
            "zerolinecolor": "white"
           }
          },
          "shapedefaults": {
           "line": {
            "color": "#2a3f5f"
           }
          },
          "ternary": {
           "aaxis": {
            "gridcolor": "white",
            "linecolor": "white",
            "ticks": ""
           },
           "baxis": {
            "gridcolor": "white",
            "linecolor": "white",
            "ticks": ""
           },
           "bgcolor": "#E5ECF6",
           "caxis": {
            "gridcolor": "white",
            "linecolor": "white",
            "ticks": ""
           }
          },
          "title": {
           "x": 0.05
          },
          "xaxis": {
           "automargin": true,
           "gridcolor": "white",
           "linecolor": "white",
           "ticks": "",
           "title": {
            "standoff": 15
           },
           "zerolinecolor": "white",
           "zerolinewidth": 2
          },
          "yaxis": {
           "automargin": true,
           "gridcolor": "white",
           "linecolor": "white",
           "ticks": "",
           "title": {
            "standoff": 15
           },
           "zerolinecolor": "white",
           "zerolinewidth": 2
          }
         }
        },
        "title": {
         "text": "Average execution time - 10 runs"
        },
        "width": 1000,
        "xaxis": {
         "anchor": "y",
         "domain": [
          0,
          1
         ],
         "title": {
          "text": "# of lines"
         }
        },
        "yaxis": {
         "anchor": "x",
         "domain": [
          0,
          1
         ],
         "title": {
          "text": "Time (s)"
         }
        }
       }
      }
     },
     "metadata": {},
     "output_type": "display_data"
    }
   ],
   "source": [
    "fig = px.line(\n",
    "    df_mean,\n",
    "    x='size',\n",
    "    y='time',\n",
    "    color='engine_file',\n",
    "    height=800,\n",
    "    width=1000,\n",
    "    title='Average execution time - 10 runs',\n",
    "    markers=True,\n",
    "     labels={\n",
    "        'time': 'Time (s)',\n",
    "        'size': '# of lines',\n",
    "        'engine_file': 'Engine - File'\n",
    "    }\n",
    ")\n",
    "\n",
    "fig.show()"
   ]
  },
  {
   "cell_type": "markdown",
   "metadata": {},
   "source": [
    "# Goodreads Db"
   ]
  },
  {
   "cell_type": "code",
   "execution_count": 21,
   "metadata": {},
   "outputs": [
    {
     "data": {
      "text/html": [
       "<div>\n",
       "<style scoped>\n",
       "    .dataframe tbody tr th:only-of-type {\n",
       "        vertical-align: middle;\n",
       "    }\n",
       "\n",
       "    .dataframe tbody tr th {\n",
       "        vertical-align: top;\n",
       "    }\n",
       "\n",
       "    .dataframe thead th {\n",
       "        text-align: right;\n",
       "    }\n",
       "</style>\n",
       "<table border=\"1\" class=\"dataframe\">\n",
       "  <thead>\n",
       "    <tr style=\"text-align: right;\">\n",
       "      <th></th>\n",
       "      <th>engine</th>\n",
       "      <th>file</th>\n",
       "      <th>run</th>\n",
       "      <th>time</th>\n",
       "    </tr>\n",
       "  </thead>\n",
       "  <tbody>\n",
       "    <tr>\n",
       "      <th>0</th>\n",
       "      <td>pandas_cudf</td>\n",
       "      <td>csv</td>\n",
       "      <td>1</td>\n",
       "      <td>34.958037</td>\n",
       "    </tr>\n",
       "    <tr>\n",
       "      <th>1</th>\n",
       "      <td>pandas_cudf</td>\n",
       "      <td>csv</td>\n",
       "      <td>1</td>\n",
       "      <td>7.129519</td>\n",
       "    </tr>\n",
       "    <tr>\n",
       "      <th>2</th>\n",
       "      <td>pandas_cudf</td>\n",
       "      <td>csv</td>\n",
       "      <td>2</td>\n",
       "      <td>11.408551</td>\n",
       "    </tr>\n",
       "    <tr>\n",
       "      <th>3</th>\n",
       "      <td>pandas_cudf</td>\n",
       "      <td>csv</td>\n",
       "      <td>3</td>\n",
       "      <td>7.891881</td>\n",
       "    </tr>\n",
       "    <tr>\n",
       "      <th>4</th>\n",
       "      <td>pandas_cudf</td>\n",
       "      <td>csv</td>\n",
       "      <td>4</td>\n",
       "      <td>7.713310</td>\n",
       "    </tr>\n",
       "    <tr>\n",
       "      <th>...</th>\n",
       "      <td>...</td>\n",
       "      <td>...</td>\n",
       "      <td>...</td>\n",
       "      <td>...</td>\n",
       "    </tr>\n",
       "    <tr>\n",
       "      <th>116</th>\n",
       "      <td>spark</td>\n",
       "      <td>parquet</td>\n",
       "      <td>8</td>\n",
       "      <td>0.033622</td>\n",
       "    </tr>\n",
       "    <tr>\n",
       "      <th>117</th>\n",
       "      <td>spark</td>\n",
       "      <td>parquet</td>\n",
       "      <td>9</td>\n",
       "      <td>0.031467</td>\n",
       "    </tr>\n",
       "    <tr>\n",
       "      <th>118</th>\n",
       "      <td>spark</td>\n",
       "      <td>parquet</td>\n",
       "      <td>10</td>\n",
       "      <td>0.030925</td>\n",
       "    </tr>\n",
       "    <tr>\n",
       "      <th>119</th>\n",
       "      <td>spark</td>\n",
       "      <td>parquet</td>\n",
       "      <td>11</td>\n",
       "      <td>0.034351</td>\n",
       "    </tr>\n",
       "    <tr>\n",
       "      <th>120</th>\n",
       "      <td>spark</td>\n",
       "      <td>parquet</td>\n",
       "      <td>12</td>\n",
       "      <td>0.036208</td>\n",
       "    </tr>\n",
       "  </tbody>\n",
       "</table>\n",
       "<p>121 rows × 4 columns</p>\n",
       "</div>"
      ],
      "text/plain": [
       "          engine     file  run       time\n",
       "0    pandas_cudf      csv    1  34.958037\n",
       "1    pandas_cudf      csv    1   7.129519\n",
       "2    pandas_cudf      csv    2  11.408551\n",
       "3    pandas_cudf      csv    3   7.891881\n",
       "4    pandas_cudf      csv    4   7.713310\n",
       "..           ...      ...  ...        ...\n",
       "116        spark  parquet    8   0.033622\n",
       "117        spark  parquet    9   0.031467\n",
       "118        spark  parquet   10   0.030925\n",
       "119        spark  parquet   11   0.034351\n",
       "120        spark  parquet   12   0.036208\n",
       "\n",
       "[121 rows x 4 columns]"
      ]
     },
     "execution_count": 21,
     "metadata": {},
     "output_type": "execute_result"
    }
   ],
   "source": [
    "df = pd.read_csv(\"./benchmark_results_goodreads_20250216.csv\", sep=\",\", header=None, names=[\"engine\", \"file\", \"run\", \"time\"])\n",
    "df"
   ]
  },
  {
   "cell_type": "code",
   "execution_count": 22,
   "metadata": {},
   "outputs": [
    {
     "data": {
      "text/html": [
       "<div>\n",
       "<style scoped>\n",
       "    .dataframe tbody tr th:only-of-type {\n",
       "        vertical-align: middle;\n",
       "    }\n",
       "\n",
       "    .dataframe tbody tr th {\n",
       "        vertical-align: top;\n",
       "    }\n",
       "\n",
       "    .dataframe thead th {\n",
       "        text-align: right;\n",
       "    }\n",
       "</style>\n",
       "<table border=\"1\" class=\"dataframe\">\n",
       "  <thead>\n",
       "    <tr style=\"text-align: right;\">\n",
       "      <th></th>\n",
       "      <th>engine</th>\n",
       "      <th>file</th>\n",
       "      <th>time</th>\n",
       "      <th>min_max</th>\n",
       "    </tr>\n",
       "  </thead>\n",
       "  <tbody>\n",
       "    <tr>\n",
       "      <th>0</th>\n",
       "      <td>pandas</td>\n",
       "      <td>csv</td>\n",
       "      <td>26.473442</td>\n",
       "      <td>1</td>\n",
       "    </tr>\n",
       "    <tr>\n",
       "      <th>1</th>\n",
       "      <td>pandas</td>\n",
       "      <td>parquet</td>\n",
       "      <td>5.107713</td>\n",
       "      <td>1</td>\n",
       "    </tr>\n",
       "    <tr>\n",
       "      <th>2</th>\n",
       "      <td>pandas_cudf</td>\n",
       "      <td>csv</td>\n",
       "      <td>7.129519</td>\n",
       "      <td>1</td>\n",
       "    </tr>\n",
       "    <tr>\n",
       "      <th>3</th>\n",
       "      <td>pandas_cudf</td>\n",
       "      <td>parquet</td>\n",
       "      <td>2.532946</td>\n",
       "      <td>1</td>\n",
       "    </tr>\n",
       "    <tr>\n",
       "      <th>4</th>\n",
       "      <td>polars</td>\n",
       "      <td>csv</td>\n",
       "      <td>3.780570</td>\n",
       "      <td>1</td>\n",
       "    </tr>\n",
       "    <tr>\n",
       "      <th>5</th>\n",
       "      <td>polars</td>\n",
       "      <td>parquet</td>\n",
       "      <td>3.091340</td>\n",
       "      <td>1</td>\n",
       "    </tr>\n",
       "    <tr>\n",
       "      <th>6</th>\n",
       "      <td>polars_cudf</td>\n",
       "      <td>csv</td>\n",
       "      <td>1.022787</td>\n",
       "      <td>1</td>\n",
       "    </tr>\n",
       "    <tr>\n",
       "      <th>7</th>\n",
       "      <td>polars_cudf</td>\n",
       "      <td>parquet</td>\n",
       "      <td>0.306133</td>\n",
       "      <td>1</td>\n",
       "    </tr>\n",
       "    <tr>\n",
       "      <th>8</th>\n",
       "      <td>spark</td>\n",
       "      <td>csv</td>\n",
       "      <td>0.042252</td>\n",
       "      <td>1</td>\n",
       "    </tr>\n",
       "    <tr>\n",
       "      <th>9</th>\n",
       "      <td>spark</td>\n",
       "      <td>parquet</td>\n",
       "      <td>0.030925</td>\n",
       "      <td>1</td>\n",
       "    </tr>\n",
       "    <tr>\n",
       "      <th>10</th>\n",
       "      <td>pandas</td>\n",
       "      <td>csv</td>\n",
       "      <td>28.995862</td>\n",
       "      <td>1</td>\n",
       "    </tr>\n",
       "    <tr>\n",
       "      <th>11</th>\n",
       "      <td>pandas</td>\n",
       "      <td>parquet</td>\n",
       "      <td>6.271110</td>\n",
       "      <td>1</td>\n",
       "    </tr>\n",
       "    <tr>\n",
       "      <th>12</th>\n",
       "      <td>pandas_cudf</td>\n",
       "      <td>csv</td>\n",
       "      <td>34.958037</td>\n",
       "      <td>1</td>\n",
       "    </tr>\n",
       "    <tr>\n",
       "      <th>13</th>\n",
       "      <td>pandas_cudf</td>\n",
       "      <td>parquet</td>\n",
       "      <td>4.304739</td>\n",
       "      <td>1</td>\n",
       "    </tr>\n",
       "    <tr>\n",
       "      <th>14</th>\n",
       "      <td>polars</td>\n",
       "      <td>csv</td>\n",
       "      <td>5.976354</td>\n",
       "      <td>1</td>\n",
       "    </tr>\n",
       "    <tr>\n",
       "      <th>15</th>\n",
       "      <td>polars</td>\n",
       "      <td>parquet</td>\n",
       "      <td>3.204211</td>\n",
       "      <td>1</td>\n",
       "    </tr>\n",
       "    <tr>\n",
       "      <th>16</th>\n",
       "      <td>polars_cudf</td>\n",
       "      <td>csv</td>\n",
       "      <td>1.604598</td>\n",
       "      <td>1</td>\n",
       "    </tr>\n",
       "    <tr>\n",
       "      <th>17</th>\n",
       "      <td>polars_cudf</td>\n",
       "      <td>parquet</td>\n",
       "      <td>0.907104</td>\n",
       "      <td>1</td>\n",
       "    </tr>\n",
       "    <tr>\n",
       "      <th>18</th>\n",
       "      <td>spark</td>\n",
       "      <td>csv</td>\n",
       "      <td>1.558727</td>\n",
       "      <td>1</td>\n",
       "    </tr>\n",
       "    <tr>\n",
       "      <th>19</th>\n",
       "      <td>spark</td>\n",
       "      <td>parquet</td>\n",
       "      <td>0.973176</td>\n",
       "      <td>1</td>\n",
       "    </tr>\n",
       "  </tbody>\n",
       "</table>\n",
       "</div>"
      ],
      "text/plain": [
       "         engine     file       time  min_max\n",
       "0        pandas      csv  26.473442        1\n",
       "1        pandas  parquet   5.107713        1\n",
       "2   pandas_cudf      csv   7.129519        1\n",
       "3   pandas_cudf  parquet   2.532946        1\n",
       "4        polars      csv   3.780570        1\n",
       "5        polars  parquet   3.091340        1\n",
       "6   polars_cudf      csv   1.022787        1\n",
       "7   polars_cudf  parquet   0.306133        1\n",
       "8         spark      csv   0.042252        1\n",
       "9         spark  parquet   0.030925        1\n",
       "10       pandas      csv  28.995862        1\n",
       "11       pandas  parquet   6.271110        1\n",
       "12  pandas_cudf      csv  34.958037        1\n",
       "13  pandas_cudf  parquet   4.304739        1\n",
       "14       polars      csv   5.976354        1\n",
       "15       polars  parquet   3.204211        1\n",
       "16  polars_cudf      csv   1.604598        1\n",
       "17  polars_cudf  parquet   0.907104        1\n",
       "18        spark      csv   1.558727        1\n",
       "19        spark  parquet   0.973176        1"
      ]
     },
     "execution_count": 22,
     "metadata": {},
     "output_type": "execute_result"
    }
   ],
   "source": [
    "df_max = df.groupby(['engine','file']).agg({'time':'max'})\n",
    "df_max['min_max'] = 1\n",
    "df_min = df.groupby(['engine','file']).agg({'time':'min'})\n",
    "df_min['min_max'] = 1\n",
    "df_min_max = pd.concat([df_min,df_max])\n",
    "df_min_max = df_min_max.reset_index()\n",
    "df_min_max"
   ]
  },
  {
   "cell_type": "code",
   "execution_count": 23,
   "metadata": {},
   "outputs": [
    {
     "data": {
      "text/html": [
       "<div>\n",
       "<style scoped>\n",
       "    .dataframe tbody tr th:only-of-type {\n",
       "        vertical-align: middle;\n",
       "    }\n",
       "\n",
       "    .dataframe tbody tr th {\n",
       "        vertical-align: top;\n",
       "    }\n",
       "\n",
       "    .dataframe thead th {\n",
       "        text-align: right;\n",
       "    }\n",
       "</style>\n",
       "<table border=\"1\" class=\"dataframe\">\n",
       "  <thead>\n",
       "    <tr style=\"text-align: right;\">\n",
       "      <th></th>\n",
       "      <th>engine</th>\n",
       "      <th>file</th>\n",
       "      <th>run</th>\n",
       "      <th>time</th>\n",
       "    </tr>\n",
       "  </thead>\n",
       "  <tbody>\n",
       "    <tr>\n",
       "      <th>2</th>\n",
       "      <td>pandas_cudf</td>\n",
       "      <td>csv</td>\n",
       "      <td>2</td>\n",
       "      <td>11.408551</td>\n",
       "    </tr>\n",
       "    <tr>\n",
       "      <th>3</th>\n",
       "      <td>pandas_cudf</td>\n",
       "      <td>csv</td>\n",
       "      <td>3</td>\n",
       "      <td>7.891881</td>\n",
       "    </tr>\n",
       "    <tr>\n",
       "      <th>4</th>\n",
       "      <td>pandas_cudf</td>\n",
       "      <td>csv</td>\n",
       "      <td>4</td>\n",
       "      <td>7.713310</td>\n",
       "    </tr>\n",
       "    <tr>\n",
       "      <th>5</th>\n",
       "      <td>pandas_cudf</td>\n",
       "      <td>csv</td>\n",
       "      <td>5</td>\n",
       "      <td>7.759629</td>\n",
       "    </tr>\n",
       "    <tr>\n",
       "      <th>6</th>\n",
       "      <td>pandas_cudf</td>\n",
       "      <td>csv</td>\n",
       "      <td>6</td>\n",
       "      <td>7.772991</td>\n",
       "    </tr>\n",
       "    <tr>\n",
       "      <th>...</th>\n",
       "      <td>...</td>\n",
       "      <td>...</td>\n",
       "      <td>...</td>\n",
       "      <td>...</td>\n",
       "    </tr>\n",
       "    <tr>\n",
       "      <th>115</th>\n",
       "      <td>spark</td>\n",
       "      <td>parquet</td>\n",
       "      <td>7</td>\n",
       "      <td>0.035691</td>\n",
       "    </tr>\n",
       "    <tr>\n",
       "      <th>116</th>\n",
       "      <td>spark</td>\n",
       "      <td>parquet</td>\n",
       "      <td>8</td>\n",
       "      <td>0.033622</td>\n",
       "    </tr>\n",
       "    <tr>\n",
       "      <th>117</th>\n",
       "      <td>spark</td>\n",
       "      <td>parquet</td>\n",
       "      <td>9</td>\n",
       "      <td>0.031467</td>\n",
       "    </tr>\n",
       "    <tr>\n",
       "      <th>119</th>\n",
       "      <td>spark</td>\n",
       "      <td>parquet</td>\n",
       "      <td>11</td>\n",
       "      <td>0.034351</td>\n",
       "    </tr>\n",
       "    <tr>\n",
       "      <th>120</th>\n",
       "      <td>spark</td>\n",
       "      <td>parquet</td>\n",
       "      <td>12</td>\n",
       "      <td>0.036208</td>\n",
       "    </tr>\n",
       "  </tbody>\n",
       "</table>\n",
       "<p>101 rows × 4 columns</p>\n",
       "</div>"
      ],
      "text/plain": [
       "          engine     file  run       time\n",
       "2    pandas_cudf      csv    2  11.408551\n",
       "3    pandas_cudf      csv    3   7.891881\n",
       "4    pandas_cudf      csv    4   7.713310\n",
       "5    pandas_cudf      csv    5   7.759629\n",
       "6    pandas_cudf      csv    6   7.772991\n",
       "..           ...      ...  ...        ...\n",
       "115        spark  parquet    7   0.035691\n",
       "116        spark  parquet    8   0.033622\n",
       "117        spark  parquet    9   0.031467\n",
       "119        spark  parquet   11   0.034351\n",
       "120        spark  parquet   12   0.036208\n",
       "\n",
       "[101 rows x 4 columns]"
      ]
     },
     "execution_count": 23,
     "metadata": {},
     "output_type": "execute_result"
    }
   ],
   "source": [
    "df_filtered = (\n",
    "    df\n",
    "    .merge(df_min_max, on=['engine','file','time'], how='left')\n",
    ")\n",
    "\n",
    "df_filtered = df_filtered[df_filtered['min_max'].isnull()]\n",
    "df_filtered = df_filtered.drop('min_max', axis=1)\n",
    "df_filtered"
   ]
  },
  {
   "cell_type": "code",
   "execution_count": 24,
   "metadata": {},
   "outputs": [
    {
     "data": {
      "text/html": [
       "<div>\n",
       "<style scoped>\n",
       "    .dataframe tbody tr th:only-of-type {\n",
       "        vertical-align: middle;\n",
       "    }\n",
       "\n",
       "    .dataframe tbody tr th {\n",
       "        vertical-align: top;\n",
       "    }\n",
       "\n",
       "    .dataframe thead th {\n",
       "        text-align: right;\n",
       "    }\n",
       "</style>\n",
       "<table border=\"1\" class=\"dataframe\">\n",
       "  <thead>\n",
       "    <tr style=\"text-align: right;\">\n",
       "      <th></th>\n",
       "      <th>engine</th>\n",
       "      <th>file</th>\n",
       "      <th>time</th>\n",
       "      <th>engine_file</th>\n",
       "    </tr>\n",
       "  </thead>\n",
       "  <tbody>\n",
       "    <tr>\n",
       "      <th>0</th>\n",
       "      <td>pandas</td>\n",
       "      <td>csv</td>\n",
       "      <td>28.676856</td>\n",
       "      <td>pandas-csv</td>\n",
       "    </tr>\n",
       "    <tr>\n",
       "      <th>1</th>\n",
       "      <td>pandas</td>\n",
       "      <td>parquet</td>\n",
       "      <td>5.234514</td>\n",
       "      <td>pandas-parquet</td>\n",
       "    </tr>\n",
       "    <tr>\n",
       "      <th>2</th>\n",
       "      <td>pandas_cudf</td>\n",
       "      <td>csv</td>\n",
       "      <td>8.046553</td>\n",
       "      <td>pandas_cudf-csv</td>\n",
       "    </tr>\n",
       "    <tr>\n",
       "      <th>3</th>\n",
       "      <td>pandas_cudf</td>\n",
       "      <td>parquet</td>\n",
       "      <td>3.135356</td>\n",
       "      <td>pandas_cudf-parquet</td>\n",
       "    </tr>\n",
       "    <tr>\n",
       "      <th>4</th>\n",
       "      <td>polars</td>\n",
       "      <td>csv</td>\n",
       "      <td>3.801188</td>\n",
       "      <td>polars-csv</td>\n",
       "    </tr>\n",
       "    <tr>\n",
       "      <th>5</th>\n",
       "      <td>polars</td>\n",
       "      <td>parquet</td>\n",
       "      <td>3.133524</td>\n",
       "      <td>polars-parquet</td>\n",
       "    </tr>\n",
       "    <tr>\n",
       "      <th>6</th>\n",
       "      <td>polars_cudf</td>\n",
       "      <td>csv</td>\n",
       "      <td>1.074315</td>\n",
       "      <td>polars_cudf-csv</td>\n",
       "    </tr>\n",
       "    <tr>\n",
       "      <th>7</th>\n",
       "      <td>polars_cudf</td>\n",
       "      <td>parquet</td>\n",
       "      <td>0.340801</td>\n",
       "      <td>polars_cudf-parquet</td>\n",
       "    </tr>\n",
       "    <tr>\n",
       "      <th>8</th>\n",
       "      <td>spark</td>\n",
       "      <td>csv</td>\n",
       "      <td>0.061850</td>\n",
       "      <td>spark-csv</td>\n",
       "    </tr>\n",
       "    <tr>\n",
       "      <th>9</th>\n",
       "      <td>spark</td>\n",
       "      <td>parquet</td>\n",
       "      <td>0.038362</td>\n",
       "      <td>spark-parquet</td>\n",
       "    </tr>\n",
       "  </tbody>\n",
       "</table>\n",
       "</div>"
      ],
      "text/plain": [
       "        engine     file       time          engine_file\n",
       "0       pandas      csv  28.676856           pandas-csv\n",
       "1       pandas  parquet   5.234514       pandas-parquet\n",
       "2  pandas_cudf      csv   8.046553      pandas_cudf-csv\n",
       "3  pandas_cudf  parquet   3.135356  pandas_cudf-parquet\n",
       "4       polars      csv   3.801188           polars-csv\n",
       "5       polars  parquet   3.133524       polars-parquet\n",
       "6  polars_cudf      csv   1.074315      polars_cudf-csv\n",
       "7  polars_cudf  parquet   0.340801  polars_cudf-parquet\n",
       "8        spark      csv   0.061850            spark-csv\n",
       "9        spark  parquet   0.038362        spark-parquet"
      ]
     },
     "execution_count": 24,
     "metadata": {},
     "output_type": "execute_result"
    }
   ],
   "source": [
    "df_mean = (\n",
    "    df_filtered\n",
    "    .groupby(['engine','file'])\n",
    "    .agg(\n",
    "        {\n",
    "            'time':'mean'\n",
    "        }\n",
    "    )\n",
    ")\n",
    "df_mean = df_mean.reset_index()\n",
    "df_mean['engine_file'] = df_mean['engine']+'-'+df_mean['file']\n",
    "df_mean"
   ]
  },
  {
   "cell_type": "code",
   "execution_count": 25,
   "metadata": {},
   "outputs": [
    {
     "data": {
      "application/vnd.plotly.v1+json": {
       "config": {
        "plotlyServerURL": "https://plot.ly"
       },
       "data": [
        {
         "alignmentgroup": "True",
         "hovertemplate": "Engine=pandas<br>File=%{x}<br>Time (s)=%{y}<extra></extra>",
         "legendgroup": "pandas",
         "marker": {
          "color": "#636efa",
          "pattern": {
           "shape": ""
          }
         },
         "name": "pandas",
         "offsetgroup": "pandas",
         "orientation": "v",
         "showlegend": true,
         "textposition": "auto",
         "texttemplate": "%{y:.2f}",
         "type": "bar",
         "x": [
          "csv",
          "parquet"
         ],
         "xaxis": "x",
         "y": {
          "bdata": "MzMzaUatPECamZl5JPAUQA==",
          "dtype": "f8"
         },
         "yaxis": "y"
        },
        {
         "alignmentgroup": "True",
         "hovertemplate": "Engine=pandas_cudf<br>File=%{x}<br>Time (s)=%{y}<extra></extra>",
         "legendgroup": "pandas_cudf",
         "marker": {
          "color": "#EF553B",
          "pattern": {
           "shape": ""
          }
         },
         "name": "pandas_cudf",
         "offsetgroup": "pandas_cudf",
         "orientation": "v",
         "showlegend": true,
         "textposition": "auto",
         "texttemplate": "%{y:.2f}",
         "type": "bar",
         "x": [
          "csv",
          "parquet"
         ],
         "xaxis": "x",
         "y": {
          "bdata": "6aKLztUXIECamZlpNRUJQA==",
          "dtype": "f8"
         },
         "yaxis": "y"
        },
        {
         "alignmentgroup": "True",
         "hovertemplate": "Engine=polars<br>File=%{x}<br>Time (s)=%{y}<extra></extra>",
         "legendgroup": "polars",
         "marker": {
          "color": "#00cc96",
          "pattern": {
           "shape": ""
          }
         },
         "name": "polars",
         "offsetgroup": "polars",
         "orientation": "v",
         "showlegend": true,
         "textposition": "auto",
         "texttemplate": "%{y:.2f}",
         "type": "bar",
         "x": [
          "csv",
          "parquet"
         ],
         "xaxis": "x",
         "y": {
          "bdata": "AAAAMNVoDkCamZk5dREJQA==",
          "dtype": "f8"
         },
         "yaxis": "y"
        },
        {
         "alignmentgroup": "True",
         "hovertemplate": "Engine=polars_cudf<br>File=%{x}<br>Time (s)=%{y}<extra></extra>",
         "legendgroup": "polars_cudf",
         "marker": {
          "color": "#ab63fa",
          "pattern": {
           "shape": ""
          }
         },
         "name": "polars_cudf",
         "offsetgroup": "polars_cudf",
         "orientation": "v",
         "showlegend": true,
         "textposition": "auto",
         "texttemplate": "%{y:.2f}",
         "type": "bar",
         "x": [
          "csv",
          "parquet"
         ],
         "xaxis": "x",
         "y": {
          "bdata": "zczMzGQw8T9mZmbmsM/VPw==",
          "dtype": "f8"
         },
         "yaxis": "y"
        },
        {
         "alignmentgroup": "True",
         "hovertemplate": "Engine=spark<br>File=%{x}<br>Time (s)=%{y}<extra></extra>",
         "legendgroup": "spark",
         "marker": {
          "color": "#FFA15A",
          "pattern": {
           "shape": ""
          }
         },
         "name": "spark",
         "offsetgroup": "spark",
         "orientation": "v",
         "showlegend": true,
         "textposition": "auto",
         "texttemplate": "%{y:.2f}",
         "type": "bar",
         "x": [
          "csv",
          "parquet"
         ],
         "xaxis": "x",
         "y": {
          "bdata": "+////9uqrz/IzMzMPKSjPw==",
          "dtype": "f8"
         },
         "yaxis": "y"
        }
       ],
       "layout": {
        "barmode": "group",
        "height": 800,
        "legend": {
         "title": {
          "text": "Engine"
         },
         "tracegroupgap": 0
        },
        "template": {
         "data": {
          "bar": [
           {
            "error_x": {
             "color": "#2a3f5f"
            },
            "error_y": {
             "color": "#2a3f5f"
            },
            "marker": {
             "line": {
              "color": "#E5ECF6",
              "width": 0.5
             },
             "pattern": {
              "fillmode": "overlay",
              "size": 10,
              "solidity": 0.2
             }
            },
            "type": "bar"
           }
          ],
          "barpolar": [
           {
            "marker": {
             "line": {
              "color": "#E5ECF6",
              "width": 0.5
             },
             "pattern": {
              "fillmode": "overlay",
              "size": 10,
              "solidity": 0.2
             }
            },
            "type": "barpolar"
           }
          ],
          "carpet": [
           {
            "aaxis": {
             "endlinecolor": "#2a3f5f",
             "gridcolor": "white",
             "linecolor": "white",
             "minorgridcolor": "white",
             "startlinecolor": "#2a3f5f"
            },
            "baxis": {
             "endlinecolor": "#2a3f5f",
             "gridcolor": "white",
             "linecolor": "white",
             "minorgridcolor": "white",
             "startlinecolor": "#2a3f5f"
            },
            "type": "carpet"
           }
          ],
          "choropleth": [
           {
            "colorbar": {
             "outlinewidth": 0,
             "ticks": ""
            },
            "type": "choropleth"
           }
          ],
          "contour": [
           {
            "colorbar": {
             "outlinewidth": 0,
             "ticks": ""
            },
            "colorscale": [
             [
              0,
              "#0d0887"
             ],
             [
              0.1111111111111111,
              "#46039f"
             ],
             [
              0.2222222222222222,
              "#7201a8"
             ],
             [
              0.3333333333333333,
              "#9c179e"
             ],
             [
              0.4444444444444444,
              "#bd3786"
             ],
             [
              0.5555555555555556,
              "#d8576b"
             ],
             [
              0.6666666666666666,
              "#ed7953"
             ],
             [
              0.7777777777777778,
              "#fb9f3a"
             ],
             [
              0.8888888888888888,
              "#fdca26"
             ],
             [
              1,
              "#f0f921"
             ]
            ],
            "type": "contour"
           }
          ],
          "contourcarpet": [
           {
            "colorbar": {
             "outlinewidth": 0,
             "ticks": ""
            },
            "type": "contourcarpet"
           }
          ],
          "heatmap": [
           {
            "colorbar": {
             "outlinewidth": 0,
             "ticks": ""
            },
            "colorscale": [
             [
              0,
              "#0d0887"
             ],
             [
              0.1111111111111111,
              "#46039f"
             ],
             [
              0.2222222222222222,
              "#7201a8"
             ],
             [
              0.3333333333333333,
              "#9c179e"
             ],
             [
              0.4444444444444444,
              "#bd3786"
             ],
             [
              0.5555555555555556,
              "#d8576b"
             ],
             [
              0.6666666666666666,
              "#ed7953"
             ],
             [
              0.7777777777777778,
              "#fb9f3a"
             ],
             [
              0.8888888888888888,
              "#fdca26"
             ],
             [
              1,
              "#f0f921"
             ]
            ],
            "type": "heatmap"
           }
          ],
          "histogram": [
           {
            "marker": {
             "pattern": {
              "fillmode": "overlay",
              "size": 10,
              "solidity": 0.2
             }
            },
            "type": "histogram"
           }
          ],
          "histogram2d": [
           {
            "colorbar": {
             "outlinewidth": 0,
             "ticks": ""
            },
            "colorscale": [
             [
              0,
              "#0d0887"
             ],
             [
              0.1111111111111111,
              "#46039f"
             ],
             [
              0.2222222222222222,
              "#7201a8"
             ],
             [
              0.3333333333333333,
              "#9c179e"
             ],
             [
              0.4444444444444444,
              "#bd3786"
             ],
             [
              0.5555555555555556,
              "#d8576b"
             ],
             [
              0.6666666666666666,
              "#ed7953"
             ],
             [
              0.7777777777777778,
              "#fb9f3a"
             ],
             [
              0.8888888888888888,
              "#fdca26"
             ],
             [
              1,
              "#f0f921"
             ]
            ],
            "type": "histogram2d"
           }
          ],
          "histogram2dcontour": [
           {
            "colorbar": {
             "outlinewidth": 0,
             "ticks": ""
            },
            "colorscale": [
             [
              0,
              "#0d0887"
             ],
             [
              0.1111111111111111,
              "#46039f"
             ],
             [
              0.2222222222222222,
              "#7201a8"
             ],
             [
              0.3333333333333333,
              "#9c179e"
             ],
             [
              0.4444444444444444,
              "#bd3786"
             ],
             [
              0.5555555555555556,
              "#d8576b"
             ],
             [
              0.6666666666666666,
              "#ed7953"
             ],
             [
              0.7777777777777778,
              "#fb9f3a"
             ],
             [
              0.8888888888888888,
              "#fdca26"
             ],
             [
              1,
              "#f0f921"
             ]
            ],
            "type": "histogram2dcontour"
           }
          ],
          "mesh3d": [
           {
            "colorbar": {
             "outlinewidth": 0,
             "ticks": ""
            },
            "type": "mesh3d"
           }
          ],
          "parcoords": [
           {
            "line": {
             "colorbar": {
              "outlinewidth": 0,
              "ticks": ""
             }
            },
            "type": "parcoords"
           }
          ],
          "pie": [
           {
            "automargin": true,
            "type": "pie"
           }
          ],
          "scatter": [
           {
            "fillpattern": {
             "fillmode": "overlay",
             "size": 10,
             "solidity": 0.2
            },
            "type": "scatter"
           }
          ],
          "scatter3d": [
           {
            "line": {
             "colorbar": {
              "outlinewidth": 0,
              "ticks": ""
             }
            },
            "marker": {
             "colorbar": {
              "outlinewidth": 0,
              "ticks": ""
             }
            },
            "type": "scatter3d"
           }
          ],
          "scattercarpet": [
           {
            "marker": {
             "colorbar": {
              "outlinewidth": 0,
              "ticks": ""
             }
            },
            "type": "scattercarpet"
           }
          ],
          "scattergeo": [
           {
            "marker": {
             "colorbar": {
              "outlinewidth": 0,
              "ticks": ""
             }
            },
            "type": "scattergeo"
           }
          ],
          "scattergl": [
           {
            "marker": {
             "colorbar": {
              "outlinewidth": 0,
              "ticks": ""
             }
            },
            "type": "scattergl"
           }
          ],
          "scattermap": [
           {
            "marker": {
             "colorbar": {
              "outlinewidth": 0,
              "ticks": ""
             }
            },
            "type": "scattermap"
           }
          ],
          "scattermapbox": [
           {
            "marker": {
             "colorbar": {
              "outlinewidth": 0,
              "ticks": ""
             }
            },
            "type": "scattermapbox"
           }
          ],
          "scatterpolar": [
           {
            "marker": {
             "colorbar": {
              "outlinewidth": 0,
              "ticks": ""
             }
            },
            "type": "scatterpolar"
           }
          ],
          "scatterpolargl": [
           {
            "marker": {
             "colorbar": {
              "outlinewidth": 0,
              "ticks": ""
             }
            },
            "type": "scatterpolargl"
           }
          ],
          "scatterternary": [
           {
            "marker": {
             "colorbar": {
              "outlinewidth": 0,
              "ticks": ""
             }
            },
            "type": "scatterternary"
           }
          ],
          "surface": [
           {
            "colorbar": {
             "outlinewidth": 0,
             "ticks": ""
            },
            "colorscale": [
             [
              0,
              "#0d0887"
             ],
             [
              0.1111111111111111,
              "#46039f"
             ],
             [
              0.2222222222222222,
              "#7201a8"
             ],
             [
              0.3333333333333333,
              "#9c179e"
             ],
             [
              0.4444444444444444,
              "#bd3786"
             ],
             [
              0.5555555555555556,
              "#d8576b"
             ],
             [
              0.6666666666666666,
              "#ed7953"
             ],
             [
              0.7777777777777778,
              "#fb9f3a"
             ],
             [
              0.8888888888888888,
              "#fdca26"
             ],
             [
              1,
              "#f0f921"
             ]
            ],
            "type": "surface"
           }
          ],
          "table": [
           {
            "cells": {
             "fill": {
              "color": "#EBF0F8"
             },
             "line": {
              "color": "white"
             }
            },
            "header": {
             "fill": {
              "color": "#C8D4E3"
             },
             "line": {
              "color": "white"
             }
            },
            "type": "table"
           }
          ]
         },
         "layout": {
          "annotationdefaults": {
           "arrowcolor": "#2a3f5f",
           "arrowhead": 0,
           "arrowwidth": 1
          },
          "autotypenumbers": "strict",
          "coloraxis": {
           "colorbar": {
            "outlinewidth": 0,
            "ticks": ""
           }
          },
          "colorscale": {
           "diverging": [
            [
             0,
             "#8e0152"
            ],
            [
             0.1,
             "#c51b7d"
            ],
            [
             0.2,
             "#de77ae"
            ],
            [
             0.3,
             "#f1b6da"
            ],
            [
             0.4,
             "#fde0ef"
            ],
            [
             0.5,
             "#f7f7f7"
            ],
            [
             0.6,
             "#e6f5d0"
            ],
            [
             0.7,
             "#b8e186"
            ],
            [
             0.8,
             "#7fbc41"
            ],
            [
             0.9,
             "#4d9221"
            ],
            [
             1,
             "#276419"
            ]
           ],
           "sequential": [
            [
             0,
             "#0d0887"
            ],
            [
             0.1111111111111111,
             "#46039f"
            ],
            [
             0.2222222222222222,
             "#7201a8"
            ],
            [
             0.3333333333333333,
             "#9c179e"
            ],
            [
             0.4444444444444444,
             "#bd3786"
            ],
            [
             0.5555555555555556,
             "#d8576b"
            ],
            [
             0.6666666666666666,
             "#ed7953"
            ],
            [
             0.7777777777777778,
             "#fb9f3a"
            ],
            [
             0.8888888888888888,
             "#fdca26"
            ],
            [
             1,
             "#f0f921"
            ]
           ],
           "sequentialminus": [
            [
             0,
             "#0d0887"
            ],
            [
             0.1111111111111111,
             "#46039f"
            ],
            [
             0.2222222222222222,
             "#7201a8"
            ],
            [
             0.3333333333333333,
             "#9c179e"
            ],
            [
             0.4444444444444444,
             "#bd3786"
            ],
            [
             0.5555555555555556,
             "#d8576b"
            ],
            [
             0.6666666666666666,
             "#ed7953"
            ],
            [
             0.7777777777777778,
             "#fb9f3a"
            ],
            [
             0.8888888888888888,
             "#fdca26"
            ],
            [
             1,
             "#f0f921"
            ]
           ]
          },
          "colorway": [
           "#636efa",
           "#EF553B",
           "#00cc96",
           "#ab63fa",
           "#FFA15A",
           "#19d3f3",
           "#FF6692",
           "#B6E880",
           "#FF97FF",
           "#FECB52"
          ],
          "font": {
           "color": "#2a3f5f"
          },
          "geo": {
           "bgcolor": "white",
           "lakecolor": "white",
           "landcolor": "#E5ECF6",
           "showlakes": true,
           "showland": true,
           "subunitcolor": "white"
          },
          "hoverlabel": {
           "align": "left"
          },
          "hovermode": "closest",
          "mapbox": {
           "style": "light"
          },
          "paper_bgcolor": "white",
          "plot_bgcolor": "#E5ECF6",
          "polar": {
           "angularaxis": {
            "gridcolor": "white",
            "linecolor": "white",
            "ticks": ""
           },
           "bgcolor": "#E5ECF6",
           "radialaxis": {
            "gridcolor": "white",
            "linecolor": "white",
            "ticks": ""
           }
          },
          "scene": {
           "xaxis": {
            "backgroundcolor": "#E5ECF6",
            "gridcolor": "white",
            "gridwidth": 2,
            "linecolor": "white",
            "showbackground": true,
            "ticks": "",
            "zerolinecolor": "white"
           },
           "yaxis": {
            "backgroundcolor": "#E5ECF6",
            "gridcolor": "white",
            "gridwidth": 2,
            "linecolor": "white",
            "showbackground": true,
            "ticks": "",
            "zerolinecolor": "white"
           },
           "zaxis": {
            "backgroundcolor": "#E5ECF6",
            "gridcolor": "white",
            "gridwidth": 2,
            "linecolor": "white",
            "showbackground": true,
            "ticks": "",
            "zerolinecolor": "white"
           }
          },
          "shapedefaults": {
           "line": {
            "color": "#2a3f5f"
           }
          },
          "ternary": {
           "aaxis": {
            "gridcolor": "white",
            "linecolor": "white",
            "ticks": ""
           },
           "baxis": {
            "gridcolor": "white",
            "linecolor": "white",
            "ticks": ""
           },
           "bgcolor": "#E5ECF6",
           "caxis": {
            "gridcolor": "white",
            "linecolor": "white",
            "ticks": ""
           }
          },
          "title": {
           "x": 0.05
          },
          "xaxis": {
           "automargin": true,
           "gridcolor": "white",
           "linecolor": "white",
           "ticks": "",
           "title": {
            "standoff": 15
           },
           "zerolinecolor": "white",
           "zerolinewidth": 2
          },
          "yaxis": {
           "automargin": true,
           "gridcolor": "white",
           "linecolor": "white",
           "ticks": "",
           "title": {
            "standoff": 15
           },
           "zerolinecolor": "white",
           "zerolinewidth": 2
          }
         }
        },
        "title": {
         "text": "Average execution time - 10 runs"
        },
        "width": 1000,
        "xaxis": {
         "anchor": "y",
         "domain": [
          0,
          1
         ],
         "title": {
          "text": "File"
         }
        },
        "yaxis": {
         "anchor": "x",
         "domain": [
          0,
          1
         ],
         "title": {
          "text": "Time (s)"
         }
        }
       }
      }
     },
     "metadata": {},
     "output_type": "display_data"
    }
   ],
   "source": [
    "fig = px.bar(\n",
    "    df_mean,\n",
    "    x='file',\n",
    "    y='time',\n",
    "    color='engine',\n",
    "    height=800,\n",
    "    width=1000,\n",
    "    title='Average execution time - 10 runs',\n",
    "    labels={\n",
    "        'time': 'Time (s)',\n",
    "        'file': 'File',\n",
    "        'engine': 'Engine'\n",
    "    },\n",
    "    barmode=\"group\",\n",
    "    text_auto='.2f'\n",
    ")\n",
    "\n",
    "fig.show()"
   ]
  },
  {
   "cell_type": "code",
   "execution_count": 33,
   "metadata": {},
   "outputs": [
    {
     "data": {
      "text/html": [
       "<div>\n",
       "<style scoped>\n",
       "    .dataframe tbody tr th:only-of-type {\n",
       "        vertical-align: middle;\n",
       "    }\n",
       "\n",
       "    .dataframe tbody tr th {\n",
       "        vertical-align: top;\n",
       "    }\n",
       "\n",
       "    .dataframe thead th {\n",
       "        text-align: right;\n",
       "    }\n",
       "</style>\n",
       "<table border=\"1\" class=\"dataframe\">\n",
       "  <thead>\n",
       "    <tr style=\"text-align: right;\">\n",
       "      <th></th>\n",
       "      <th>engine</th>\n",
       "      <th>file</th>\n",
       "      <th>mean</th>\n",
       "      <th>stddev</th>\n",
       "      <th>median</th>\n",
       "    </tr>\n",
       "  </thead>\n",
       "  <tbody>\n",
       "    <tr>\n",
       "      <th>0</th>\n",
       "      <td>pandas</td>\n",
       "      <td>csv</td>\n",
       "      <td>28.676856</td>\n",
       "      <td>0.241594</td>\n",
       "      <td>28.730991</td>\n",
       "    </tr>\n",
       "    <tr>\n",
       "      <th>1</th>\n",
       "      <td>pandas</td>\n",
       "      <td>parquet</td>\n",
       "      <td>5.234514</td>\n",
       "      <td>0.246346</td>\n",
       "      <td>5.141955</td>\n",
       "    </tr>\n",
       "    <tr>\n",
       "      <th>2</th>\n",
       "      <td>pandas_cudf</td>\n",
       "      <td>csv</td>\n",
       "      <td>8.046553</td>\n",
       "      <td>1.118021</td>\n",
       "      <td>7.713310</td>\n",
       "    </tr>\n",
       "    <tr>\n",
       "      <th>3</th>\n",
       "      <td>pandas_cudf</td>\n",
       "      <td>parquet</td>\n",
       "      <td>3.135356</td>\n",
       "      <td>0.248288</td>\n",
       "      <td>3.052279</td>\n",
       "    </tr>\n",
       "    <tr>\n",
       "      <th>4</th>\n",
       "      <td>polars</td>\n",
       "      <td>csv</td>\n",
       "      <td>3.801188</td>\n",
       "      <td>0.023988</td>\n",
       "      <td>3.793273</td>\n",
       "    </tr>\n",
       "    <tr>\n",
       "      <th>5</th>\n",
       "      <td>polars</td>\n",
       "      <td>parquet</td>\n",
       "      <td>3.133524</td>\n",
       "      <td>0.027382</td>\n",
       "      <td>3.120671</td>\n",
       "    </tr>\n",
       "    <tr>\n",
       "      <th>6</th>\n",
       "      <td>polars_cudf</td>\n",
       "      <td>csv</td>\n",
       "      <td>1.074315</td>\n",
       "      <td>0.140156</td>\n",
       "      <td>1.030304</td>\n",
       "    </tr>\n",
       "    <tr>\n",
       "      <th>7</th>\n",
       "      <td>polars_cudf</td>\n",
       "      <td>parquet</td>\n",
       "      <td>0.340801</td>\n",
       "      <td>0.100387</td>\n",
       "      <td>0.308305</td>\n",
       "    </tr>\n",
       "    <tr>\n",
       "      <th>8</th>\n",
       "      <td>spark</td>\n",
       "      <td>csv</td>\n",
       "      <td>0.061850</td>\n",
       "      <td>0.011694</td>\n",
       "      <td>0.065556</td>\n",
       "    </tr>\n",
       "    <tr>\n",
       "      <th>9</th>\n",
       "      <td>spark</td>\n",
       "      <td>parquet</td>\n",
       "      <td>0.038362</td>\n",
       "      <td>0.007237</td>\n",
       "      <td>0.035753</td>\n",
       "    </tr>\n",
       "  </tbody>\n",
       "</table>\n",
       "</div>"
      ],
      "text/plain": [
       "        engine     file       mean    stddev     median\n",
       "0       pandas      csv  28.676856  0.241594  28.730991\n",
       "1       pandas  parquet   5.234514  0.246346   5.141955\n",
       "2  pandas_cudf      csv   8.046553  1.118021   7.713310\n",
       "3  pandas_cudf  parquet   3.135356  0.248288   3.052279\n",
       "4       polars      csv   3.801188  0.023988   3.793273\n",
       "5       polars  parquet   3.133524  0.027382   3.120671\n",
       "6  polars_cudf      csv   1.074315  0.140156   1.030304\n",
       "7  polars_cudf  parquet   0.340801  0.100387   0.308305\n",
       "8        spark      csv   0.061850  0.011694   0.065556\n",
       "9        spark  parquet   0.038362  0.007237   0.035753"
      ]
     },
     "execution_count": 33,
     "metadata": {},
     "output_type": "execute_result"
    }
   ],
   "source": [
    "df_metrics = (\n",
    "    df_filtered\n",
    "    .groupby(['engine','file'])\n",
    "    .agg(\n",
    "        mean = ('time','mean'),\n",
    "        stddev = ('time', 'std'),\n",
    "        median = ('time','median')\n",
    "        )\n",
    ")\n",
    "df_metrics = df_metrics.reset_index()\n",
    "df_metrics"
   ]
  },
  {
   "cell_type": "code",
   "execution_count": 38,
   "metadata": {},
   "outputs": [
    {
     "data": {
      "text/html": [
       "<div>\n",
       "<style scoped>\n",
       "    .dataframe tbody tr th:only-of-type {\n",
       "        vertical-align: middle;\n",
       "    }\n",
       "\n",
       "    .dataframe tbody tr th {\n",
       "        vertical-align: top;\n",
       "    }\n",
       "\n",
       "    .dataframe thead th {\n",
       "        text-align: right;\n",
       "    }\n",
       "</style>\n",
       "<table border=\"1\" class=\"dataframe\">\n",
       "  <thead>\n",
       "    <tr style=\"text-align: right;\">\n",
       "      <th></th>\n",
       "      <th>engine</th>\n",
       "      <th>file</th>\n",
       "      <th>mean</th>\n",
       "      <th>stddev</th>\n",
       "      <th>median</th>\n",
       "      <th>Rate</th>\n",
       "    </tr>\n",
       "  </thead>\n",
       "  <tbody>\n",
       "    <tr>\n",
       "      <th>9</th>\n",
       "      <td>spark</td>\n",
       "      <td>parquet</td>\n",
       "      <td>0.038362</td>\n",
       "      <td>0.007237</td>\n",
       "      <td>0.035753</td>\n",
       "      <td>1.00</td>\n",
       "    </tr>\n",
       "    <tr>\n",
       "      <th>8</th>\n",
       "      <td>spark</td>\n",
       "      <td>csv</td>\n",
       "      <td>0.061850</td>\n",
       "      <td>0.011694</td>\n",
       "      <td>0.065556</td>\n",
       "      <td>1.61</td>\n",
       "    </tr>\n",
       "    <tr>\n",
       "      <th>7</th>\n",
       "      <td>polars_cudf</td>\n",
       "      <td>parquet</td>\n",
       "      <td>0.340801</td>\n",
       "      <td>0.100387</td>\n",
       "      <td>0.308305</td>\n",
       "      <td>8.88</td>\n",
       "    </tr>\n",
       "    <tr>\n",
       "      <th>6</th>\n",
       "      <td>polars_cudf</td>\n",
       "      <td>csv</td>\n",
       "      <td>1.074315</td>\n",
       "      <td>0.140156</td>\n",
       "      <td>1.030304</td>\n",
       "      <td>28.00</td>\n",
       "    </tr>\n",
       "    <tr>\n",
       "      <th>5</th>\n",
       "      <td>polars</td>\n",
       "      <td>parquet</td>\n",
       "      <td>3.133524</td>\n",
       "      <td>0.027382</td>\n",
       "      <td>3.120671</td>\n",
       "      <td>81.68</td>\n",
       "    </tr>\n",
       "    <tr>\n",
       "      <th>3</th>\n",
       "      <td>pandas_cudf</td>\n",
       "      <td>parquet</td>\n",
       "      <td>3.135356</td>\n",
       "      <td>0.248288</td>\n",
       "      <td>3.052279</td>\n",
       "      <td>81.73</td>\n",
       "    </tr>\n",
       "    <tr>\n",
       "      <th>4</th>\n",
       "      <td>polars</td>\n",
       "      <td>csv</td>\n",
       "      <td>3.801188</td>\n",
       "      <td>0.023988</td>\n",
       "      <td>3.793273</td>\n",
       "      <td>99.09</td>\n",
       "    </tr>\n",
       "    <tr>\n",
       "      <th>1</th>\n",
       "      <td>pandas</td>\n",
       "      <td>parquet</td>\n",
       "      <td>5.234514</td>\n",
       "      <td>0.246346</td>\n",
       "      <td>5.141955</td>\n",
       "      <td>136.45</td>\n",
       "    </tr>\n",
       "    <tr>\n",
       "      <th>2</th>\n",
       "      <td>pandas_cudf</td>\n",
       "      <td>csv</td>\n",
       "      <td>8.046553</td>\n",
       "      <td>1.118021</td>\n",
       "      <td>7.713310</td>\n",
       "      <td>209.75</td>\n",
       "    </tr>\n",
       "    <tr>\n",
       "      <th>0</th>\n",
       "      <td>pandas</td>\n",
       "      <td>csv</td>\n",
       "      <td>28.676856</td>\n",
       "      <td>0.241594</td>\n",
       "      <td>28.730991</td>\n",
       "      <td>747.53</td>\n",
       "    </tr>\n",
       "  </tbody>\n",
       "</table>\n",
       "</div>"
      ],
      "text/plain": [
       "        engine     file       mean    stddev     median    Rate\n",
       "9        spark  parquet   0.038362  0.007237   0.035753    1.00\n",
       "8        spark      csv   0.061850  0.011694   0.065556    1.61\n",
       "7  polars_cudf  parquet   0.340801  0.100387   0.308305    8.88\n",
       "6  polars_cudf      csv   1.074315  0.140156   1.030304   28.00\n",
       "5       polars  parquet   3.133524  0.027382   3.120671   81.68\n",
       "3  pandas_cudf  parquet   3.135356  0.248288   3.052279   81.73\n",
       "4       polars      csv   3.801188  0.023988   3.793273   99.09\n",
       "1       pandas  parquet   5.234514  0.246346   5.141955  136.45\n",
       "2  pandas_cudf      csv   8.046553  1.118021   7.713310  209.75\n",
       "0       pandas      csv  28.676856  0.241594  28.730991  747.53"
      ]
     },
     "execution_count": 38,
     "metadata": {},
     "output_type": "execute_result"
    }
   ],
   "source": [
    "df_metrics['Rate'] = round(df_metrics[\"mean\"]/0.038362,2)\n",
    "df_metrics.sort_values('Rate')"
   ]
  },
  {
   "cell_type": "code",
   "execution_count": null,
   "metadata": {},
   "outputs": [],
   "source": []
  }
 ],
 "metadata": {
  "kernelspec": {
   "display_name": ".venv",
   "language": "python",
   "name": "python3"
  },
  "language_info": {
   "codemirror_mode": {
    "name": "ipython",
    "version": 3
   },
   "file_extension": ".py",
   "mimetype": "text/x-python",
   "name": "python",
   "nbconvert_exporter": "python",
   "pygments_lexer": "ipython3",
   "version": "3.12.4"
  }
 },
 "nbformat": 4,
 "nbformat_minor": 2
}
