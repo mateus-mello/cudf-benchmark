{
 "cells": [
  {
   "cell_type": "code",
   "execution_count": 3,
   "metadata": {},
   "outputs": [],
   "source": [
    "import pandas as pd\n",
    "import plotly.express as px"
   ]
  },
  {
   "cell_type": "code",
   "execution_count": 4,
   "metadata": {},
   "outputs": [
    {
     "data": {
      "text/html": [
       "<div>\n",
       "<style scoped>\n",
       "    .dataframe tbody tr th:only-of-type {\n",
       "        vertical-align: middle;\n",
       "    }\n",
       "\n",
       "    .dataframe tbody tr th {\n",
       "        vertical-align: top;\n",
       "    }\n",
       "\n",
       "    .dataframe thead th {\n",
       "        text-align: right;\n",
       "    }\n",
       "</style>\n",
       "<table border=\"1\" class=\"dataframe\">\n",
       "  <thead>\n",
       "    <tr style=\"text-align: right;\">\n",
       "      <th></th>\n",
       "      <th>engine</th>\n",
       "      <th>file</th>\n",
       "      <th>size</th>\n",
       "      <th>run</th>\n",
       "      <th>time</th>\n",
       "    </tr>\n",
       "  </thead>\n",
       "  <tbody>\n",
       "    <tr>\n",
       "      <th>0</th>\n",
       "      <td>pandas</td>\n",
       "      <td>csv</td>\n",
       "      <td>500000</td>\n",
       "      <td>1</td>\n",
       "      <td>0.059160</td>\n",
       "    </tr>\n",
       "    <tr>\n",
       "      <th>1</th>\n",
       "      <td>pandas</td>\n",
       "      <td>csv</td>\n",
       "      <td>500000</td>\n",
       "      <td>2</td>\n",
       "      <td>0.046396</td>\n",
       "    </tr>\n",
       "    <tr>\n",
       "      <th>2</th>\n",
       "      <td>pandas</td>\n",
       "      <td>csv</td>\n",
       "      <td>500000</td>\n",
       "      <td>3</td>\n",
       "      <td>0.039489</td>\n",
       "    </tr>\n",
       "    <tr>\n",
       "      <th>3</th>\n",
       "      <td>pandas</td>\n",
       "      <td>csv</td>\n",
       "      <td>500000</td>\n",
       "      <td>4</td>\n",
       "      <td>0.041445</td>\n",
       "    </tr>\n",
       "    <tr>\n",
       "      <th>4</th>\n",
       "      <td>pandas</td>\n",
       "      <td>csv</td>\n",
       "      <td>500000</td>\n",
       "      <td>5</td>\n",
       "      <td>0.038567</td>\n",
       "    </tr>\n",
       "    <tr>\n",
       "      <th>...</th>\n",
       "      <td>...</td>\n",
       "      <td>...</td>\n",
       "      <td>...</td>\n",
       "      <td>...</td>\n",
       "      <td>...</td>\n",
       "    </tr>\n",
       "    <tr>\n",
       "      <th>1243</th>\n",
       "      <td>cudf</td>\n",
       "      <td>parquet</td>\n",
       "      <td>200000000</td>\n",
       "      <td>8</td>\n",
       "      <td>0.403310</td>\n",
       "    </tr>\n",
       "    <tr>\n",
       "      <th>1244</th>\n",
       "      <td>cudf</td>\n",
       "      <td>parquet</td>\n",
       "      <td>200000000</td>\n",
       "      <td>9</td>\n",
       "      <td>0.426259</td>\n",
       "    </tr>\n",
       "    <tr>\n",
       "      <th>1245</th>\n",
       "      <td>cudf</td>\n",
       "      <td>parquet</td>\n",
       "      <td>200000000</td>\n",
       "      <td>10</td>\n",
       "      <td>1.072460</td>\n",
       "    </tr>\n",
       "    <tr>\n",
       "      <th>1246</th>\n",
       "      <td>cudf</td>\n",
       "      <td>parquet</td>\n",
       "      <td>200000000</td>\n",
       "      <td>11</td>\n",
       "      <td>2.461838</td>\n",
       "    </tr>\n",
       "    <tr>\n",
       "      <th>1247</th>\n",
       "      <td>cudf</td>\n",
       "      <td>parquet</td>\n",
       "      <td>200000000</td>\n",
       "      <td>12</td>\n",
       "      <td>3.920755</td>\n",
       "    </tr>\n",
       "  </tbody>\n",
       "</table>\n",
       "<p>1248 rows × 5 columns</p>\n",
       "</div>"
      ],
      "text/plain": [
       "      engine     file       size  run      time\n",
       "0     pandas      csv     500000    1  0.059160\n",
       "1     pandas      csv     500000    2  0.046396\n",
       "2     pandas      csv     500000    3  0.039489\n",
       "3     pandas      csv     500000    4  0.041445\n",
       "4     pandas      csv     500000    5  0.038567\n",
       "...      ...      ...        ...  ...       ...\n",
       "1243    cudf  parquet  200000000    8  0.403310\n",
       "1244    cudf  parquet  200000000    9  0.426259\n",
       "1245    cudf  parquet  200000000   10  1.072460\n",
       "1246    cudf  parquet  200000000   11  2.461838\n",
       "1247    cudf  parquet  200000000   12  3.920755\n",
       "\n",
       "[1248 rows x 5 columns]"
      ]
     },
     "execution_count": 4,
     "metadata": {},
     "output_type": "execute_result"
    }
   ],
   "source": [
    "df = pd.read_csv(\"./benchmark_results.csv\", sep=\",\", header=None, names=[\"engine\", \"file\", \"size\",\"run\", \"time\"])\n",
    "df"
   ]
  },
  {
   "cell_type": "code",
   "execution_count": 5,
   "metadata": {},
   "outputs": [
    {
     "data": {
      "text/html": [
       "<div>\n",
       "<style scoped>\n",
       "    .dataframe tbody tr th:only-of-type {\n",
       "        vertical-align: middle;\n",
       "    }\n",
       "\n",
       "    .dataframe tbody tr th {\n",
       "        vertical-align: top;\n",
       "    }\n",
       "\n",
       "    .dataframe thead th {\n",
       "        text-align: right;\n",
       "    }\n",
       "</style>\n",
       "<table border=\"1\" class=\"dataframe\">\n",
       "  <thead>\n",
       "    <tr style=\"text-align: right;\">\n",
       "      <th></th>\n",
       "      <th>engine</th>\n",
       "      <th>file</th>\n",
       "      <th>size</th>\n",
       "      <th>time</th>\n",
       "      <th>min_max</th>\n",
       "    </tr>\n",
       "  </thead>\n",
       "  <tbody>\n",
       "    <tr>\n",
       "      <th>0</th>\n",
       "      <td>cudf</td>\n",
       "      <td>csv</td>\n",
       "      <td>500000</td>\n",
       "      <td>0.004747</td>\n",
       "      <td>1</td>\n",
       "    </tr>\n",
       "    <tr>\n",
       "      <th>1</th>\n",
       "      <td>cudf</td>\n",
       "      <td>csv</td>\n",
       "      <td>1000000</td>\n",
       "      <td>0.007611</td>\n",
       "      <td>1</td>\n",
       "    </tr>\n",
       "    <tr>\n",
       "      <th>2</th>\n",
       "      <td>cudf</td>\n",
       "      <td>csv</td>\n",
       "      <td>5000000</td>\n",
       "      <td>0.024487</td>\n",
       "      <td>1</td>\n",
       "    </tr>\n",
       "    <tr>\n",
       "      <th>3</th>\n",
       "      <td>cudf</td>\n",
       "      <td>csv</td>\n",
       "      <td>10000000</td>\n",
       "      <td>0.046887</td>\n",
       "      <td>1</td>\n",
       "    </tr>\n",
       "    <tr>\n",
       "      <th>4</th>\n",
       "      <td>cudf</td>\n",
       "      <td>csv</td>\n",
       "      <td>15000000</td>\n",
       "      <td>0.070954</td>\n",
       "      <td>1</td>\n",
       "    </tr>\n",
       "    <tr>\n",
       "      <th>...</th>\n",
       "      <td>...</td>\n",
       "      <td>...</td>\n",
       "      <td>...</td>\n",
       "      <td>...</td>\n",
       "      <td>...</td>\n",
       "    </tr>\n",
       "    <tr>\n",
       "      <th>203</th>\n",
       "      <td>pandas</td>\n",
       "      <td>parquet</td>\n",
       "      <td>100000000</td>\n",
       "      <td>1.612192</td>\n",
       "      <td>1</td>\n",
       "    </tr>\n",
       "    <tr>\n",
       "      <th>204</th>\n",
       "      <td>pandas</td>\n",
       "      <td>parquet</td>\n",
       "      <td>125000000</td>\n",
       "      <td>1.863088</td>\n",
       "      <td>1</td>\n",
       "    </tr>\n",
       "    <tr>\n",
       "      <th>205</th>\n",
       "      <td>pandas</td>\n",
       "      <td>parquet</td>\n",
       "      <td>150000000</td>\n",
       "      <td>2.222078</td>\n",
       "      <td>1</td>\n",
       "    </tr>\n",
       "    <tr>\n",
       "      <th>206</th>\n",
       "      <td>pandas</td>\n",
       "      <td>parquet</td>\n",
       "      <td>175000000</td>\n",
       "      <td>2.577395</td>\n",
       "      <td>1</td>\n",
       "    </tr>\n",
       "    <tr>\n",
       "      <th>207</th>\n",
       "      <td>pandas</td>\n",
       "      <td>parquet</td>\n",
       "      <td>200000000</td>\n",
       "      <td>2.963190</td>\n",
       "      <td>1</td>\n",
       "    </tr>\n",
       "  </tbody>\n",
       "</table>\n",
       "<p>208 rows × 5 columns</p>\n",
       "</div>"
      ],
      "text/plain": [
       "     engine     file       size      time  min_max\n",
       "0      cudf      csv     500000  0.004747        1\n",
       "1      cudf      csv    1000000  0.007611        1\n",
       "2      cudf      csv    5000000  0.024487        1\n",
       "3      cudf      csv   10000000  0.046887        1\n",
       "4      cudf      csv   15000000  0.070954        1\n",
       "..      ...      ...        ...       ...      ...\n",
       "203  pandas  parquet  100000000  1.612192        1\n",
       "204  pandas  parquet  125000000  1.863088        1\n",
       "205  pandas  parquet  150000000  2.222078        1\n",
       "206  pandas  parquet  175000000  2.577395        1\n",
       "207  pandas  parquet  200000000  2.963190        1\n",
       "\n",
       "[208 rows x 5 columns]"
      ]
     },
     "execution_count": 5,
     "metadata": {},
     "output_type": "execute_result"
    }
   ],
   "source": [
    "df_max = df.groupby(['engine','file','size']).agg({'time':'max'})\n",
    "df_max['min_max'] = 1\n",
    "df_min = df.groupby(['engine','file','size']).agg({'time':'min'})\n",
    "df_min['min_max'] = 1\n",
    "df_min_max = pd.concat([df_min,df_max])\n",
    "df_min_max = df_min_max.reset_index()\n",
    "df_min_max"
   ]
  },
  {
   "cell_type": "code",
   "execution_count": 6,
   "metadata": {},
   "outputs": [
    {
     "data": {
      "text/html": [
       "<div>\n",
       "<style scoped>\n",
       "    .dataframe tbody tr th:only-of-type {\n",
       "        vertical-align: middle;\n",
       "    }\n",
       "\n",
       "    .dataframe tbody tr th {\n",
       "        vertical-align: top;\n",
       "    }\n",
       "\n",
       "    .dataframe thead th {\n",
       "        text-align: right;\n",
       "    }\n",
       "</style>\n",
       "<table border=\"1\" class=\"dataframe\">\n",
       "  <thead>\n",
       "    <tr style=\"text-align: right;\">\n",
       "      <th></th>\n",
       "      <th>engine</th>\n",
       "      <th>file</th>\n",
       "      <th>size</th>\n",
       "      <th>run</th>\n",
       "      <th>time</th>\n",
       "    </tr>\n",
       "  </thead>\n",
       "  <tbody>\n",
       "    <tr>\n",
       "      <th>1</th>\n",
       "      <td>pandas</td>\n",
       "      <td>csv</td>\n",
       "      <td>500000</td>\n",
       "      <td>2</td>\n",
       "      <td>0.046396</td>\n",
       "    </tr>\n",
       "    <tr>\n",
       "      <th>2</th>\n",
       "      <td>pandas</td>\n",
       "      <td>csv</td>\n",
       "      <td>500000</td>\n",
       "      <td>3</td>\n",
       "      <td>0.039489</td>\n",
       "    </tr>\n",
       "    <tr>\n",
       "      <th>3</th>\n",
       "      <td>pandas</td>\n",
       "      <td>csv</td>\n",
       "      <td>500000</td>\n",
       "      <td>4</td>\n",
       "      <td>0.041445</td>\n",
       "    </tr>\n",
       "    <tr>\n",
       "      <th>4</th>\n",
       "      <td>pandas</td>\n",
       "      <td>csv</td>\n",
       "      <td>500000</td>\n",
       "      <td>5</td>\n",
       "      <td>0.038567</td>\n",
       "    </tr>\n",
       "    <tr>\n",
       "      <th>5</th>\n",
       "      <td>pandas</td>\n",
       "      <td>csv</td>\n",
       "      <td>500000</td>\n",
       "      <td>6</td>\n",
       "      <td>0.041425</td>\n",
       "    </tr>\n",
       "    <tr>\n",
       "      <th>...</th>\n",
       "      <td>...</td>\n",
       "      <td>...</td>\n",
       "      <td>...</td>\n",
       "      <td>...</td>\n",
       "      <td>...</td>\n",
       "    </tr>\n",
       "    <tr>\n",
       "      <th>1242</th>\n",
       "      <td>cudf</td>\n",
       "      <td>parquet</td>\n",
       "      <td>200000000</td>\n",
       "      <td>7</td>\n",
       "      <td>0.403584</td>\n",
       "    </tr>\n",
       "    <tr>\n",
       "      <th>1243</th>\n",
       "      <td>cudf</td>\n",
       "      <td>parquet</td>\n",
       "      <td>200000000</td>\n",
       "      <td>8</td>\n",
       "      <td>0.403310</td>\n",
       "    </tr>\n",
       "    <tr>\n",
       "      <th>1244</th>\n",
       "      <td>cudf</td>\n",
       "      <td>parquet</td>\n",
       "      <td>200000000</td>\n",
       "      <td>9</td>\n",
       "      <td>0.426259</td>\n",
       "    </tr>\n",
       "    <tr>\n",
       "      <th>1245</th>\n",
       "      <td>cudf</td>\n",
       "      <td>parquet</td>\n",
       "      <td>200000000</td>\n",
       "      <td>10</td>\n",
       "      <td>1.072460</td>\n",
       "    </tr>\n",
       "    <tr>\n",
       "      <th>1246</th>\n",
       "      <td>cudf</td>\n",
       "      <td>parquet</td>\n",
       "      <td>200000000</td>\n",
       "      <td>11</td>\n",
       "      <td>2.461838</td>\n",
       "    </tr>\n",
       "  </tbody>\n",
       "</table>\n",
       "<p>1040 rows × 5 columns</p>\n",
       "</div>"
      ],
      "text/plain": [
       "      engine     file       size  run      time\n",
       "1     pandas      csv     500000    2  0.046396\n",
       "2     pandas      csv     500000    3  0.039489\n",
       "3     pandas      csv     500000    4  0.041445\n",
       "4     pandas      csv     500000    5  0.038567\n",
       "5     pandas      csv     500000    6  0.041425\n",
       "...      ...      ...        ...  ...       ...\n",
       "1242    cudf  parquet  200000000    7  0.403584\n",
       "1243    cudf  parquet  200000000    8  0.403310\n",
       "1244    cudf  parquet  200000000    9  0.426259\n",
       "1245    cudf  parquet  200000000   10  1.072460\n",
       "1246    cudf  parquet  200000000   11  2.461838\n",
       "\n",
       "[1040 rows x 5 columns]"
      ]
     },
     "execution_count": 6,
     "metadata": {},
     "output_type": "execute_result"
    }
   ],
   "source": [
    "df_filtered = (\n",
    "    df\n",
    "    .merge(df_min_max, on=['engine','file','size','time'], how='left')\n",
    ")\n",
    "\n",
    "df_filtered = df_filtered[df_filtered['min_max'].isnull()]\n",
    "df_filtered = df_filtered.drop('min_max', axis=1)\n",
    "df_filtered"
   ]
  },
  {
   "cell_type": "code",
   "execution_count": 7,
   "metadata": {},
   "outputs": [
    {
     "data": {
      "text/html": [
       "<div>\n",
       "<style scoped>\n",
       "    .dataframe tbody tr th:only-of-type {\n",
       "        vertical-align: middle;\n",
       "    }\n",
       "\n",
       "    .dataframe tbody tr th {\n",
       "        vertical-align: top;\n",
       "    }\n",
       "\n",
       "    .dataframe thead th {\n",
       "        text-align: right;\n",
       "    }\n",
       "</style>\n",
       "<table border=\"1\" class=\"dataframe\">\n",
       "  <thead>\n",
       "    <tr style=\"text-align: right;\">\n",
       "      <th></th>\n",
       "      <th>engine</th>\n",
       "      <th>file</th>\n",
       "      <th>size</th>\n",
       "      <th>time</th>\n",
       "      <th>engine_file</th>\n",
       "    </tr>\n",
       "  </thead>\n",
       "  <tbody>\n",
       "    <tr>\n",
       "      <th>0</th>\n",
       "      <td>cudf</td>\n",
       "      <td>csv</td>\n",
       "      <td>500000</td>\n",
       "      <td>0.005047</td>\n",
       "      <td>cudf-csv</td>\n",
       "    </tr>\n",
       "    <tr>\n",
       "      <th>1</th>\n",
       "      <td>cudf</td>\n",
       "      <td>csv</td>\n",
       "      <td>1000000</td>\n",
       "      <td>0.008387</td>\n",
       "      <td>cudf-csv</td>\n",
       "    </tr>\n",
       "    <tr>\n",
       "      <th>2</th>\n",
       "      <td>cudf</td>\n",
       "      <td>csv</td>\n",
       "      <td>5000000</td>\n",
       "      <td>0.027677</td>\n",
       "      <td>cudf-csv</td>\n",
       "    </tr>\n",
       "    <tr>\n",
       "      <th>3</th>\n",
       "      <td>cudf</td>\n",
       "      <td>csv</td>\n",
       "      <td>10000000</td>\n",
       "      <td>0.051828</td>\n",
       "      <td>cudf-csv</td>\n",
       "    </tr>\n",
       "    <tr>\n",
       "      <th>4</th>\n",
       "      <td>cudf</td>\n",
       "      <td>csv</td>\n",
       "      <td>15000000</td>\n",
       "      <td>0.072990</td>\n",
       "      <td>cudf-csv</td>\n",
       "    </tr>\n",
       "    <tr>\n",
       "      <th>...</th>\n",
       "      <td>...</td>\n",
       "      <td>...</td>\n",
       "      <td>...</td>\n",
       "      <td>...</td>\n",
       "      <td>...</td>\n",
       "    </tr>\n",
       "    <tr>\n",
       "      <th>99</th>\n",
       "      <td>pandas</td>\n",
       "      <td>parquet</td>\n",
       "      <td>100000000</td>\n",
       "      <td>1.476023</td>\n",
       "      <td>pandas-parquet</td>\n",
       "    </tr>\n",
       "    <tr>\n",
       "      <th>100</th>\n",
       "      <td>pandas</td>\n",
       "      <td>parquet</td>\n",
       "      <td>125000000</td>\n",
       "      <td>1.686946</td>\n",
       "      <td>pandas-parquet</td>\n",
       "    </tr>\n",
       "    <tr>\n",
       "      <th>101</th>\n",
       "      <td>pandas</td>\n",
       "      <td>parquet</td>\n",
       "      <td>150000000</td>\n",
       "      <td>1.946875</td>\n",
       "      <td>pandas-parquet</td>\n",
       "    </tr>\n",
       "    <tr>\n",
       "      <th>102</th>\n",
       "      <td>pandas</td>\n",
       "      <td>parquet</td>\n",
       "      <td>175000000</td>\n",
       "      <td>2.278523</td>\n",
       "      <td>pandas-parquet</td>\n",
       "    </tr>\n",
       "    <tr>\n",
       "      <th>103</th>\n",
       "      <td>pandas</td>\n",
       "      <td>parquet</td>\n",
       "      <td>200000000</td>\n",
       "      <td>2.616557</td>\n",
       "      <td>pandas-parquet</td>\n",
       "    </tr>\n",
       "  </tbody>\n",
       "</table>\n",
       "<p>104 rows × 5 columns</p>\n",
       "</div>"
      ],
      "text/plain": [
       "     engine     file       size      time     engine_file\n",
       "0      cudf      csv     500000  0.005047        cudf-csv\n",
       "1      cudf      csv    1000000  0.008387        cudf-csv\n",
       "2      cudf      csv    5000000  0.027677        cudf-csv\n",
       "3      cudf      csv   10000000  0.051828        cudf-csv\n",
       "4      cudf      csv   15000000  0.072990        cudf-csv\n",
       "..      ...      ...        ...       ...             ...\n",
       "99   pandas  parquet  100000000  1.476023  pandas-parquet\n",
       "100  pandas  parquet  125000000  1.686946  pandas-parquet\n",
       "101  pandas  parquet  150000000  1.946875  pandas-parquet\n",
       "102  pandas  parquet  175000000  2.278523  pandas-parquet\n",
       "103  pandas  parquet  200000000  2.616557  pandas-parquet\n",
       "\n",
       "[104 rows x 5 columns]"
      ]
     },
     "execution_count": 7,
     "metadata": {},
     "output_type": "execute_result"
    }
   ],
   "source": [
    "df_mean = (\n",
    "    df_filtered\n",
    "    .groupby(['engine','file','size'])\n",
    "    .agg(\n",
    "        {\n",
    "            'time':'mean'\n",
    "        }\n",
    "    )\n",
    ")\n",
    "df_mean = df_mean.reset_index()\n",
    "df_mean['engine_file'] = df_mean['engine']+'-'+df_mean['file']\n",
    "df_mean"
   ]
  },
  {
   "cell_type": "code",
   "execution_count": 13,
   "metadata": {},
   "outputs": [
    {
     "data": {
      "application/vnd.plotly.v1+json": {
       "config": {
        "plotlyServerURL": "https://plot.ly"
       },
       "data": [
        {
         "hovertemplate": "Engine - Arquivo=cudf-csv<br>Quantidade de Linhas=%{x}<br>Tempo(s)=%{y}<extra></extra>",
         "legendgroup": "cudf-csv",
         "line": {
          "color": "#636efa",
          "dash": "solid"
         },
         "marker": {
          "symbol": "circle"
         },
         "mode": "lines+markers",
         "name": "cudf-csv",
         "orientation": "v",
         "showlegend": true,
         "type": "scatter",
         "x": {
          "bdata": "IKEHAEBCDwBAS0wAgJaYAMDh5AAALTEBQHh9AYDDyQHADhYCAFpiAkClrgKA8PoCwDtHAwCHkwNA0t8DgB0sBMBoeAQAtMQEQP8QBYBKXQXAlakFAOH1BUBZcweA0fAIwEluCgDC6ws=",
          "dtype": "i4"
         },
         "xaxis": "x",
         "y": {
          "bdata": "pszMzMyrdD9QZmZmdi2BP4qZmZlZV5w/+P///zeJqj8xMzMzf6+yP2JmZmZmRLk//f///18jvz/LzMzM94HCP2VmZmb0h8U/y8zMzAvwyD8yMzMzMATMP83MzEwmUtA//////6y20T9mZmbmKUPUP83MzExdptY/zczMzCUI2D/NzMzMf+3aP2ZmZmZC7uc/ZmZm5gQs3T9mZmamrcLiPzMzMzOes+Y/MzMzDw9xIkDNzMwAUhMnQM3MzHQXtCtAMzMzPap1MECamZn3qOEyQA==",
          "dtype": "f8"
         },
         "yaxis": "y"
        },
        {
         "hovertemplate": "Engine - Arquivo=cudf-parquet<br>Quantidade de Linhas=%{x}<br>Tempo(s)=%{y}<extra></extra>",
         "legendgroup": "cudf-parquet",
         "line": {
          "color": "#EF553B",
          "dash": "solid"
         },
         "marker": {
          "symbol": "circle"
         },
         "mode": "lines+markers",
         "name": "cudf-parquet",
         "orientation": "v",
         "showlegend": true,
         "type": "scatter",
         "x": {
          "bdata": "IKEHAEBCDwBAS0wAgJaYAMDh5AAALTEBQHh9AYDDyQHADhYCAFpiAkClrgKA8PoCwDtHAwCHkwNA0t8DgB0sBMBoeAQAtMQEQP8QBYBKXQXAlakFAOH1BUBZcweA0fAIwEluCgDC6ws=",
          "dtype": "i4"
         },
         "xaxis": "x",
         "y": {
          "bdata": "k5mZmeG7qz/7////7/erP8XMzMzw5K4/yszMzJBosD9jZmZmlj+xP8rMzMyQ9rE/Y2ZmZhYCsz8wMzMzje6zP5eZmZnbl7Q//v///11ktT/+////MYq2PzEzMzPzq7c/yczMzIpfuD8wMzMzGUG5PzAzMzMdybo/mJmZmel8uz+WmZmZg1u9PzAzMzMtQL0/ZWZmZuZ9wT8yMzMziZrCP2VmZmbPycM//v///zOryD+ZmZkZ/InTP2ZmZub7p9E/AAAAgPKF5T9mZmbmnXbmPw==",
          "dtype": "f8"
         },
         "yaxis": "y"
        },
        {
         "hovertemplate": "Engine - Arquivo=pandas-csv<br>Quantidade de Linhas=%{x}<br>Tempo(s)=%{y}<extra></extra>",
         "legendgroup": "pandas-csv",
         "line": {
          "color": "#00cc96",
          "dash": "solid"
         },
         "marker": {
          "symbol": "circle"
         },
         "mode": "lines+markers",
         "name": "pandas-csv",
         "orientation": "v",
         "showlegend": true,
         "type": "scatter",
         "x": {
          "bdata": "IKEHAEBCDwBAS0wAgJaYAMDh5AAALTEBQHh9AYDDyQHADhYCAFpiAkClrgKA8PoCwDtHAwCHkwNA0t8DgB0sBMBoeAQAtMQEQP8QBYBKXQXAlakFAOH1BUBZcweA0fAIwEluCgDC6ws=",
          "dtype": "i4"
         },
         "xaxis": "x",
         "y": {
          "bdata": "+f////8BpT/9////iSqzPzMzM7Mz7No/AAAAwC746j+amZm5C+L0P5qZmdlgK/w/mpmZee+2AUCamZnpG+IEQAAAAMDkQghAAAAAUICrC0CamZnpMWIPQM3MzFRTfxFAAAAASEtGE0DNzMyUY/0UQDMzM4ua/hZAmpmZwfSrGEDNzMyET3EaQAAAAJC23BxAmpmZEQVBHkBmZma+PfQfQJqZmdUfRyFAMzMzy5jAIUCamZnRIkknQDMzMyt0IixAzczM4NUiMUDNzMx+A8Q0QA==",
          "dtype": "f8"
         },
         "yaxis": "y"
        },
        {
         "hovertemplate": "Engine - Arquivo=pandas-parquet<br>Quantidade de Linhas=%{x}<br>Tempo(s)=%{y}<extra></extra>",
         "legendgroup": "pandas-parquet",
         "line": {
          "color": "#ab63fa",
          "dash": "solid"
         },
         "marker": {
          "symbol": "circle"
         },
         "mode": "lines+markers",
         "name": "pandas-parquet",
         "orientation": "v",
         "showlegend": true,
         "type": "scatter",
         "x": {
          "bdata": "IKEHAEBCDwBAS0wAgJaYAMDh5AAALTEBQHh9AYDDyQHADhYCAFpiAkClrgKA8PoCwDtHAwCHkwNA0t8DgB0sBMBoeAQAtMQEQP8QBYBKXQXAlakFAOH1BUBZcweA0fAIwEluCgDC6ws=",
          "dtype": "i4"
         },
         "xaxis": "x",
         "y": {
          "bdata": "SGZmZtZtiD/z////L5yWPzAzMzNhULI/MzMzM2f0wD8yMzMzunnJP83MzMx24tA/ZmZmZn8h1j+amZmZCELaP2ZmZmZFa94/AAAAwKxq4T8AAAAAwd3jPwAAAIBkyOU/mpmZGadN6D8AAAAAn+DpP2ZmZuaTRew/MzMzMwgP7j/NzMxsXUTwP2ZmZkYTe/E/zczMLNJt8j+amZnZu1zzPwAAACC7l/Q/zczMzMmd9z8AAACguv36PzMzM3NmJv8/ZmZmVmo6AkAzMzMzte4EQA==",
          "dtype": "f8"
         },
         "yaxis": "y"
        }
       ],
       "layout": {
        "height": 800,
        "legend": {
         "title": {
          "text": "Engine - Arquivo"
         },
         "tracegroupgap": 0
        },
        "template": {
         "data": {
          "bar": [
           {
            "error_x": {
             "color": "#2a3f5f"
            },
            "error_y": {
             "color": "#2a3f5f"
            },
            "marker": {
             "line": {
              "color": "#E5ECF6",
              "width": 0.5
             },
             "pattern": {
              "fillmode": "overlay",
              "size": 10,
              "solidity": 0.2
             }
            },
            "type": "bar"
           }
          ],
          "barpolar": [
           {
            "marker": {
             "line": {
              "color": "#E5ECF6",
              "width": 0.5
             },
             "pattern": {
              "fillmode": "overlay",
              "size": 10,
              "solidity": 0.2
             }
            },
            "type": "barpolar"
           }
          ],
          "carpet": [
           {
            "aaxis": {
             "endlinecolor": "#2a3f5f",
             "gridcolor": "white",
             "linecolor": "white",
             "minorgridcolor": "white",
             "startlinecolor": "#2a3f5f"
            },
            "baxis": {
             "endlinecolor": "#2a3f5f",
             "gridcolor": "white",
             "linecolor": "white",
             "minorgridcolor": "white",
             "startlinecolor": "#2a3f5f"
            },
            "type": "carpet"
           }
          ],
          "choropleth": [
           {
            "colorbar": {
             "outlinewidth": 0,
             "ticks": ""
            },
            "type": "choropleth"
           }
          ],
          "contour": [
           {
            "colorbar": {
             "outlinewidth": 0,
             "ticks": ""
            },
            "colorscale": [
             [
              0,
              "#0d0887"
             ],
             [
              0.1111111111111111,
              "#46039f"
             ],
             [
              0.2222222222222222,
              "#7201a8"
             ],
             [
              0.3333333333333333,
              "#9c179e"
             ],
             [
              0.4444444444444444,
              "#bd3786"
             ],
             [
              0.5555555555555556,
              "#d8576b"
             ],
             [
              0.6666666666666666,
              "#ed7953"
             ],
             [
              0.7777777777777778,
              "#fb9f3a"
             ],
             [
              0.8888888888888888,
              "#fdca26"
             ],
             [
              1,
              "#f0f921"
             ]
            ],
            "type": "contour"
           }
          ],
          "contourcarpet": [
           {
            "colorbar": {
             "outlinewidth": 0,
             "ticks": ""
            },
            "type": "contourcarpet"
           }
          ],
          "heatmap": [
           {
            "colorbar": {
             "outlinewidth": 0,
             "ticks": ""
            },
            "colorscale": [
             [
              0,
              "#0d0887"
             ],
             [
              0.1111111111111111,
              "#46039f"
             ],
             [
              0.2222222222222222,
              "#7201a8"
             ],
             [
              0.3333333333333333,
              "#9c179e"
             ],
             [
              0.4444444444444444,
              "#bd3786"
             ],
             [
              0.5555555555555556,
              "#d8576b"
             ],
             [
              0.6666666666666666,
              "#ed7953"
             ],
             [
              0.7777777777777778,
              "#fb9f3a"
             ],
             [
              0.8888888888888888,
              "#fdca26"
             ],
             [
              1,
              "#f0f921"
             ]
            ],
            "type": "heatmap"
           }
          ],
          "histogram": [
           {
            "marker": {
             "pattern": {
              "fillmode": "overlay",
              "size": 10,
              "solidity": 0.2
             }
            },
            "type": "histogram"
           }
          ],
          "histogram2d": [
           {
            "colorbar": {
             "outlinewidth": 0,
             "ticks": ""
            },
            "colorscale": [
             [
              0,
              "#0d0887"
             ],
             [
              0.1111111111111111,
              "#46039f"
             ],
             [
              0.2222222222222222,
              "#7201a8"
             ],
             [
              0.3333333333333333,
              "#9c179e"
             ],
             [
              0.4444444444444444,
              "#bd3786"
             ],
             [
              0.5555555555555556,
              "#d8576b"
             ],
             [
              0.6666666666666666,
              "#ed7953"
             ],
             [
              0.7777777777777778,
              "#fb9f3a"
             ],
             [
              0.8888888888888888,
              "#fdca26"
             ],
             [
              1,
              "#f0f921"
             ]
            ],
            "type": "histogram2d"
           }
          ],
          "histogram2dcontour": [
           {
            "colorbar": {
             "outlinewidth": 0,
             "ticks": ""
            },
            "colorscale": [
             [
              0,
              "#0d0887"
             ],
             [
              0.1111111111111111,
              "#46039f"
             ],
             [
              0.2222222222222222,
              "#7201a8"
             ],
             [
              0.3333333333333333,
              "#9c179e"
             ],
             [
              0.4444444444444444,
              "#bd3786"
             ],
             [
              0.5555555555555556,
              "#d8576b"
             ],
             [
              0.6666666666666666,
              "#ed7953"
             ],
             [
              0.7777777777777778,
              "#fb9f3a"
             ],
             [
              0.8888888888888888,
              "#fdca26"
             ],
             [
              1,
              "#f0f921"
             ]
            ],
            "type": "histogram2dcontour"
           }
          ],
          "mesh3d": [
           {
            "colorbar": {
             "outlinewidth": 0,
             "ticks": ""
            },
            "type": "mesh3d"
           }
          ],
          "parcoords": [
           {
            "line": {
             "colorbar": {
              "outlinewidth": 0,
              "ticks": ""
             }
            },
            "type": "parcoords"
           }
          ],
          "pie": [
           {
            "automargin": true,
            "type": "pie"
           }
          ],
          "scatter": [
           {
            "fillpattern": {
             "fillmode": "overlay",
             "size": 10,
             "solidity": 0.2
            },
            "type": "scatter"
           }
          ],
          "scatter3d": [
           {
            "line": {
             "colorbar": {
              "outlinewidth": 0,
              "ticks": ""
             }
            },
            "marker": {
             "colorbar": {
              "outlinewidth": 0,
              "ticks": ""
             }
            },
            "type": "scatter3d"
           }
          ],
          "scattercarpet": [
           {
            "marker": {
             "colorbar": {
              "outlinewidth": 0,
              "ticks": ""
             }
            },
            "type": "scattercarpet"
           }
          ],
          "scattergeo": [
           {
            "marker": {
             "colorbar": {
              "outlinewidth": 0,
              "ticks": ""
             }
            },
            "type": "scattergeo"
           }
          ],
          "scattergl": [
           {
            "marker": {
             "colorbar": {
              "outlinewidth": 0,
              "ticks": ""
             }
            },
            "type": "scattergl"
           }
          ],
          "scattermap": [
           {
            "marker": {
             "colorbar": {
              "outlinewidth": 0,
              "ticks": ""
             }
            },
            "type": "scattermap"
           }
          ],
          "scattermapbox": [
           {
            "marker": {
             "colorbar": {
              "outlinewidth": 0,
              "ticks": ""
             }
            },
            "type": "scattermapbox"
           }
          ],
          "scatterpolar": [
           {
            "marker": {
             "colorbar": {
              "outlinewidth": 0,
              "ticks": ""
             }
            },
            "type": "scatterpolar"
           }
          ],
          "scatterpolargl": [
           {
            "marker": {
             "colorbar": {
              "outlinewidth": 0,
              "ticks": ""
             }
            },
            "type": "scatterpolargl"
           }
          ],
          "scatterternary": [
           {
            "marker": {
             "colorbar": {
              "outlinewidth": 0,
              "ticks": ""
             }
            },
            "type": "scatterternary"
           }
          ],
          "surface": [
           {
            "colorbar": {
             "outlinewidth": 0,
             "ticks": ""
            },
            "colorscale": [
             [
              0,
              "#0d0887"
             ],
             [
              0.1111111111111111,
              "#46039f"
             ],
             [
              0.2222222222222222,
              "#7201a8"
             ],
             [
              0.3333333333333333,
              "#9c179e"
             ],
             [
              0.4444444444444444,
              "#bd3786"
             ],
             [
              0.5555555555555556,
              "#d8576b"
             ],
             [
              0.6666666666666666,
              "#ed7953"
             ],
             [
              0.7777777777777778,
              "#fb9f3a"
             ],
             [
              0.8888888888888888,
              "#fdca26"
             ],
             [
              1,
              "#f0f921"
             ]
            ],
            "type": "surface"
           }
          ],
          "table": [
           {
            "cells": {
             "fill": {
              "color": "#EBF0F8"
             },
             "line": {
              "color": "white"
             }
            },
            "header": {
             "fill": {
              "color": "#C8D4E3"
             },
             "line": {
              "color": "white"
             }
            },
            "type": "table"
           }
          ]
         },
         "layout": {
          "annotationdefaults": {
           "arrowcolor": "#2a3f5f",
           "arrowhead": 0,
           "arrowwidth": 1
          },
          "autotypenumbers": "strict",
          "coloraxis": {
           "colorbar": {
            "outlinewidth": 0,
            "ticks": ""
           }
          },
          "colorscale": {
           "diverging": [
            [
             0,
             "#8e0152"
            ],
            [
             0.1,
             "#c51b7d"
            ],
            [
             0.2,
             "#de77ae"
            ],
            [
             0.3,
             "#f1b6da"
            ],
            [
             0.4,
             "#fde0ef"
            ],
            [
             0.5,
             "#f7f7f7"
            ],
            [
             0.6,
             "#e6f5d0"
            ],
            [
             0.7,
             "#b8e186"
            ],
            [
             0.8,
             "#7fbc41"
            ],
            [
             0.9,
             "#4d9221"
            ],
            [
             1,
             "#276419"
            ]
           ],
           "sequential": [
            [
             0,
             "#0d0887"
            ],
            [
             0.1111111111111111,
             "#46039f"
            ],
            [
             0.2222222222222222,
             "#7201a8"
            ],
            [
             0.3333333333333333,
             "#9c179e"
            ],
            [
             0.4444444444444444,
             "#bd3786"
            ],
            [
             0.5555555555555556,
             "#d8576b"
            ],
            [
             0.6666666666666666,
             "#ed7953"
            ],
            [
             0.7777777777777778,
             "#fb9f3a"
            ],
            [
             0.8888888888888888,
             "#fdca26"
            ],
            [
             1,
             "#f0f921"
            ]
           ],
           "sequentialminus": [
            [
             0,
             "#0d0887"
            ],
            [
             0.1111111111111111,
             "#46039f"
            ],
            [
             0.2222222222222222,
             "#7201a8"
            ],
            [
             0.3333333333333333,
             "#9c179e"
            ],
            [
             0.4444444444444444,
             "#bd3786"
            ],
            [
             0.5555555555555556,
             "#d8576b"
            ],
            [
             0.6666666666666666,
             "#ed7953"
            ],
            [
             0.7777777777777778,
             "#fb9f3a"
            ],
            [
             0.8888888888888888,
             "#fdca26"
            ],
            [
             1,
             "#f0f921"
            ]
           ]
          },
          "colorway": [
           "#636efa",
           "#EF553B",
           "#00cc96",
           "#ab63fa",
           "#FFA15A",
           "#19d3f3",
           "#FF6692",
           "#B6E880",
           "#FF97FF",
           "#FECB52"
          ],
          "font": {
           "color": "#2a3f5f"
          },
          "geo": {
           "bgcolor": "white",
           "lakecolor": "white",
           "landcolor": "#E5ECF6",
           "showlakes": true,
           "showland": true,
           "subunitcolor": "white"
          },
          "hoverlabel": {
           "align": "left"
          },
          "hovermode": "closest",
          "mapbox": {
           "style": "light"
          },
          "paper_bgcolor": "white",
          "plot_bgcolor": "#E5ECF6",
          "polar": {
           "angularaxis": {
            "gridcolor": "white",
            "linecolor": "white",
            "ticks": ""
           },
           "bgcolor": "#E5ECF6",
           "radialaxis": {
            "gridcolor": "white",
            "linecolor": "white",
            "ticks": ""
           }
          },
          "scene": {
           "xaxis": {
            "backgroundcolor": "#E5ECF6",
            "gridcolor": "white",
            "gridwidth": 2,
            "linecolor": "white",
            "showbackground": true,
            "ticks": "",
            "zerolinecolor": "white"
           },
           "yaxis": {
            "backgroundcolor": "#E5ECF6",
            "gridcolor": "white",
            "gridwidth": 2,
            "linecolor": "white",
            "showbackground": true,
            "ticks": "",
            "zerolinecolor": "white"
           },
           "zaxis": {
            "backgroundcolor": "#E5ECF6",
            "gridcolor": "white",
            "gridwidth": 2,
            "linecolor": "white",
            "showbackground": true,
            "ticks": "",
            "zerolinecolor": "white"
           }
          },
          "shapedefaults": {
           "line": {
            "color": "#2a3f5f"
           }
          },
          "ternary": {
           "aaxis": {
            "gridcolor": "white",
            "linecolor": "white",
            "ticks": ""
           },
           "baxis": {
            "gridcolor": "white",
            "linecolor": "white",
            "ticks": ""
           },
           "bgcolor": "#E5ECF6",
           "caxis": {
            "gridcolor": "white",
            "linecolor": "white",
            "ticks": ""
           }
          },
          "title": {
           "x": 0.05
          },
          "xaxis": {
           "automargin": true,
           "gridcolor": "white",
           "linecolor": "white",
           "ticks": "",
           "title": {
            "standoff": 15
           },
           "zerolinecolor": "white",
           "zerolinewidth": 2
          },
          "yaxis": {
           "automargin": true,
           "gridcolor": "white",
           "linecolor": "white",
           "ticks": "",
           "title": {
            "standoff": 15
           },
           "zerolinecolor": "white",
           "zerolinewidth": 2
          }
         }
        },
        "title": {
         "text": "Média de tempo de execução - 10 runs"
        },
        "width": 1200,
        "xaxis": {
         "anchor": "y",
         "domain": [
          0,
          1
         ],
         "title": {
          "text": "Quantidade de Linhas"
         }
        },
        "yaxis": {
         "anchor": "x",
         "domain": [
          0,
          1
         ],
         "title": {
          "text": "Tempo(s)"
         }
        }
       }
      }
     },
     "metadata": {},
     "output_type": "display_data"
    }
   ],
   "source": [
    "fig = px.line(\n",
    "    df_mean,\n",
    "    x='size',\n",
    "    y='time',\n",
    "    color='engine_file',\n",
    "    height=800,\n",
    "    width=1200,\n",
    "    title='Média de tempo de execução - 10 runs',\n",
    "    markers=True,\n",
    "     labels={\n",
    "        'time': 'Tempo(s)',\n",
    "        'size': 'Quantidade de Linhas',\n",
    "        'engine_file': 'Engine - Arquivo'\n",
    "    }\n",
    ")\n",
    "\n",
    "fig.show()"
   ]
  },
  {
   "cell_type": "code",
   "execution_count": null,
   "metadata": {},
   "outputs": [],
   "source": []
  }
 ],
 "metadata": {
  "kernelspec": {
   "display_name": ".venv",
   "language": "python",
   "name": "python3"
  },
  "language_info": {
   "codemirror_mode": {
    "name": "ipython",
    "version": 3
   },
   "file_extension": ".py",
   "mimetype": "text/x-python",
   "name": "python",
   "nbconvert_exporter": "python",
   "pygments_lexer": "ipython3",
   "version": "3.12.4"
  }
 },
 "nbformat": 4,
 "nbformat_minor": 2
}
